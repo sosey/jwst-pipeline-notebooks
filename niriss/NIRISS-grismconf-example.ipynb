{
 "cells": [
  {
   "cell_type": "markdown",
   "metadata": {},
   "source": [
    "# This notebook walks through a simple usage of the grismconf software with NIRISS configurations\n",
    "The reference software is stored here: https://github.com/npirzkal/grismconf\n",
    "\n",
    "* Configuration files in the style of aXe were created by the team to relate the dispersion polynomials.\n",
    "* This software, along withe configuration and sensitivity files, was used to validate the GWCS models created for use with the JWST pipeline WFSS mode\n",
    "* The corresponding reference files that were created for NIRCAM were made using the code in this repository: https://github.com/spacetelescope/jwreftools/blob/master/jwreftools/niriss/niriss_grism_reffiles.py\n",
    "\n",
    "*In order to continue with this notebook, you'll need a copy of the teams aXe style conf files and the sensitivity files*\n",
    "\n",
    "`GR150C.F090W.t.conf` is an example of one such file. They were made to work in conjunction with the sensitivity files, such as `NIRISS.GR150C.F090W.p1.etc.sens.fits`. You'll need to grab a copy of both sets of files to continue with this notebook."
   ]
  },
  {
   "cell_type": "markdown",
   "metadata": {},
   "source": [
    "## NIRISS"
   ]
  },
  {
   "cell_type": "code",
   "execution_count": null,
   "metadata": {},
   "outputs": [],
   "source": [
    "import grismconf\n",
    "from grismconf import poly\n",
    "import os"
   ]
  },
  {
   "cell_type": "code",
   "execution_count": null,
   "metadata": {},
   "outputs": [],
   "source": [
    "os.chdir('grismconf_files')"
   ]
  },
  {
   "cell_type": "markdown",
   "metadata": {},
   "source": [
    "### This is what an example aXe style conf file contains:"
   ]
  },
  {
   "cell_type": "code",
   "execution_count": null,
   "metadata": {},
   "outputs": [],
   "source": [
    "!cat GR150C.F090W.t.conf"
   ]
  },
  {
   "cell_type": "markdown",
   "metadata": {},
   "source": [
    "**You can see above that the file contains information for orders \"A\" through \"E\", for the column dispersed grism**\n",
    "\n",
    "### The config files can be read by grismconf as follows, the data will be stored to a python object for later use"
   ]
  },
  {
   "cell_type": "code",
   "execution_count": null,
   "metadata": {},
   "outputs": [],
   "source": [
    "N=grismconf.Config('GR150C.F090W.t.conf')"
   ]
  },
  {
   "cell_type": "code",
   "execution_count": null,
   "metadata": {},
   "outputs": [],
   "source": [
    "print(\"Wavelength range: {}\".format(N._DISPL_data['A']))\n",
    "print(\"X coefficients: {}\".format(N._DISPX_data['A']))\n",
    "print(\"Y coefficients: {}\".format(N._DISPY_data['A']))"
   ]
  },
  {
   "cell_type": "markdown",
   "metadata": {},
   "source": [
    "#### t is a free variable 0<t<1\n"
   ]
  },
  {
   "cell_type": "code",
   "execution_count": null,
   "metadata": {},
   "outputs": [],
   "source": [
    "order = \"A\"\n",
    "x = 1000\n",
    "y = 1000\n",
    "l = 15000"
   ]
  },
  {
   "cell_type": "code",
   "execution_count": null,
   "metadata": {},
   "outputs": [],
   "source": [
    "t=grismconf.poly.INVPOLY10(N._DISPL_data[order], x, y, l)  # call the wavelength dispersion model at location 1000,1000 and lam=25000\n",
    "print(\"t:\",t)"
   ]
  },
  {
   "cell_type": "code",
   "execution_count": null,
   "metadata": {},
   "outputs": [],
   "source": [
    "grismconf.poly.DPOLY10(N._DISPX_data[order], x, y ,t)  # call one of the x-models with location 1000,1000 and the t you calculated"
   ]
  },
  {
   "cell_type": "code",
   "execution_count": null,
   "metadata": {},
   "outputs": [],
   "source": [
    "N.DISPX(order, x, y, t)  # x-offset"
   ]
  },
  {
   "cell_type": "code",
   "execution_count": null,
   "metadata": {},
   "outputs": [],
   "source": [
    "grismconf.poly.DPOLY10(N._DISPY_data[order], x, y, t)  # dispersion is 2D dependent"
   ]
  },
  {
   "cell_type": "code",
   "execution_count": null,
   "metadata": {},
   "outputs": [],
   "source": [
    "grismconf.poly.DPOLY10(N._DISPX_data[order], x, y, t)  # dispersion is 2D dependent"
   ]
  },
  {
   "cell_type": "markdown",
   "metadata": {},
   "source": [
    "### We have a pixel at x,y = (1000,1000) in the grism data which is known to be at wavelength l=1.0micron, what is the origin of this light in the direct image?\n",
    "**NIRISS dispersion currently has 2D field dependence**\n",
    "​\n"
   ]
  },
  {
   "cell_type": "code",
   "execution_count": null,
   "metadata": {},
   "outputs": [],
   "source": [
    "x = 1000\n",
    "y = 1000\n",
    "l = 10000\n",
    "order = \"A\"\n",
    "\n",
    "# Initial guess for t\n",
    "t = N.INVDISPL(order,x,y,l)\n",
    "\n",
    "# We compute the dx and dy values for that t value\n",
    "dx = N.DISPX(order,x,y,t)\n",
    "dy = N.DISPY(order,x,y,t)\n",
    "\n",
    "print(\"dx:\",dx)\n",
    "print(\"dy:\",dy)\n",
    "print(\"t:\", t)\n",
    "print(\"Light at ({} Angstroms) originating from object at: ({}, {}) in the direct image\".format(l, x+dx, y+dy))"
   ]
  },
  {
   "cell_type": "markdown",
   "metadata": {},
   "source": [
    "### Let's reverse the calculation, using the location in the direct image and wavelength, where is the pixel in the grism image?"
   ]
  },
  {
   "cell_type": "code",
   "execution_count": null,
   "metadata": {},
   "outputs": [],
   "source": [
    "x = 1010.0284864061894\n",
    "y = 997.6842400874059\n",
    "l = 10000 # angstroms\n",
    "order = \"A\"\n",
    "\n",
    "t = N.INVDISPL(order, x, y, l)\n",
    "dx = N.DISPX(order, x, y, t)\n",
    "dy = N.DISPY(order, x, y, t)\n",
    "\n",
    "print(\"dx:\",dx)\n",
    "print(\"dy:\",dy)\n",
    "print(\"t:\", t)\n",
    "print(\"Light at ({} Angstroms) comes from pixel: ({}, {}) in the dispersed image\".format(l, x-dx, y-dy))\n"
   ]
  },
  {
   "cell_type": "markdown",
   "metadata": {},
   "source": [
    "## The NIRISS grism dispersions also have a dependence on the filter wheel rotation, so an additional rotation needs to be added to the calculation to get the correction translation\n",
    "\n",
    "The reference filter wheel position is taken from the `FWCPOS_REF` value in the `specwcs` reference file, the filter wheel position for the observation being processed is taken from the `FWCPOS` value in the meta information. These are combined such that the angle of rotation, theta, is `FWCPOS_REF` - `FWCPOS`."
   ]
  },
  {
   "cell_type": "markdown",
   "metadata": {},
   "source": [
    "### We have a pixel at x,y = (1000,1000) in the grism data which is known to be at wavelength l=1.0micron, what is the origin of this light in the direct image?\n",
    "NIRISS dispersion currently has 2D field dependence and requires a known rotatio, below we will add the rotation part with an example theta\n"
   ]
  },
  {
   "cell_type": "code",
   "execution_count": null,
   "metadata": {},
   "outputs": [],
   "source": [
    "import numpy as np\n",
    "x = 1000\n",
    "y = 1000\n",
    "l = 10000\n",
    "dx = 0\n",
    "dy = 0\n",
    "order = \"A\"\n",
    "theta = 324.5 * np.pi / 180.\n",
    "\n",
    "# Initial guess for t\n",
    "t = N.INVDISPXY(order, x, y, dx=0, dy=0, theta=theta)\n",
    "print(\"t: \", t)\n",
    "\n",
    "# We compute the dx and dy values for that t value\n",
    "dx, dy = N.DISPXY(order, x, y, t)\n",
    "\n",
    "print(\"dx:\",dx)\n",
    "print(\"dy:\",dy)\n",
    "print(\"Light at ({} Angstroms) originating from object at: ({}, {}) in the direct image\".format(l, x+dx, y+dy))\n",
    "\n",
    "### Using the location in the direct image and wavelength, where is the pixel in the grism image?"
   ]
  },
  {
   "cell_type": "code",
   "execution_count": null,
   "metadata": {},
   "outputs": [],
   "source": [
    "x = 998.3664307111518\n",
    "y = 997.7098203215904\n",
    "l = 10000 # angstroms\n",
    "dx = 0\n",
    "dy = 0\n",
    "theta = 324.5 * np.pi / 180.\n",
    "\n",
    "order = \"A\"\n",
    "\n",
    "t = N.INVDISPXY(order, x, y, dx=dx, dy=dy, theta=theta)\n",
    "dx, dy = N.DISPXY(order, x, y, t)\n",
    "\n",
    "print(\"dx:\",dx)\n",
    "print(\"dy:\",dy)\n",
    "print(\"t:\", t)\n",
    "print(\"Light at ({} Angstroms) comes from pixel: ({}, {}) in the dispersed image\".format(l, x-dx, y-dy))"
   ]
  },
  {
   "cell_type": "code",
   "execution_count": null,
   "metadata": {},
   "outputs": [],
   "source": []
  },
  {
   "cell_type": "code",
   "execution_count": null,
   "metadata": {},
   "outputs": [],
   "source": []
  }
 ],
 "metadata": {
  "anaconda-cloud": {},
  "kernelspec": {
   "display_name": "Python 3",
   "language": "python",
   "name": "python3"
  },
  "language_info": {
   "codemirror_mode": {
    "name": "ipython",
    "version": 3
   },
   "file_extension": ".py",
   "mimetype": "text/x-python",
   "name": "python",
   "nbconvert_exporter": "python",
   "pygments_lexer": "ipython3",
   "version": "3.5.6"
  }
 },
 "nbformat": 4,
 "nbformat_minor": 2
}
