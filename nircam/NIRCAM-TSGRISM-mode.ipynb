{
 "cells": [
  {
   "cell_type": "markdown",
   "metadata": {},
   "source": [
    "# Exploring the TSGRISM mode for NIRCAM\n",
    "### Time Series Grism observations which can be done with subarrays"
   ]
  },
  {
   "cell_type": "markdown",
   "metadata": {},
   "source": [
    "### Make sure that you have set the JWST_NOTEBOOK_DATA environment variable in the terminal from which you started Jupyter Notebook.\n",
    "\n",
    "The data will be read from that directory, and the pipeline should write to the current working directory, avoiding clobbers.\n",
    "If you would like to use your own data just substitute the locations below."
   ]
  },
  {
   "cell_type": "code",
   "execution_count": null,
   "metadata": {},
   "outputs": [],
   "source": [
    "notebook_dir = os.environ['JWST_NOTEBOOK_DATA']\n",
    "nircam_data = notebook_dir + 'nircam/'"
   ]
  },
  {
   "cell_type": "code",
   "execution_count": null,
   "metadata": {},
   "outputs": [],
   "source": [
    "# plotting, the inline must come before the matplotlib import\n",
    "%matplotlib inline\n",
    "from matplotlib import pyplot as plt\n",
    "import matplotlib.patches as patches\n",
    "\n",
    "params = {'legend.fontsize': 6,\n",
    "          'figure.figsize': (8, 8),\n",
    "          'figure.dpi': 150,\n",
    "         'axes.labelsize': 6,\n",
    "         'axes.titlesize': 6,\n",
    "         'xtick.labelsize':6,\n",
    "         'ytick.labelsize':6}\n",
    "plt.rcParams.update(params)\n",
    "\n",
    "\n",
    "# python general\n",
    "import os\n",
    "import sys\n",
    "import numpy as np\n",
    "\n",
    "# astropy modules\n",
    "from astropy.io import fits\n",
    "from astropy.table import QTable\n",
    "from astropy.wcs.utils import skycoord_to_pixel\n",
    "import photutils\n",
    "\n",
    "# jwst \n",
    "import jwst\n",
    "from jwst.datamodels import image, CubeModel\n",
    "from jwst.assign_wcs import nircam\n",
    "\n",
    "print(\"Using jwst version: {}\".format(jwst.__version__))\n",
    "print(sys.version)"
   ]
  },
  {
   "cell_type": "code",
   "execution_count": null,
   "metadata": {},
   "outputs": [],
   "source": [
    "tsgrism_image=nircam_data + 'jw12345001001_01101_00001_nrcalong_rateints.fits'"
   ]
  },
  {
   "cell_type": "code",
   "execution_count": null,
   "metadata": {},
   "outputs": [],
   "source": [
    "gim=CubeModel(tsgrism_image)"
   ]
  },
  {
   "cell_type": "code",
   "execution_count": null,
   "metadata": {},
   "outputs": [],
   "source": [
    "gim.meta.instrument.pupil, gim.meta.instrument.filter,gim.meta.exposure.type, gim.meta.instrument.module"
   ]
  },
  {
   "cell_type": "code",
   "execution_count": null,
   "metadata": {},
   "outputs": [],
   "source": [
    "gim.shape"
   ]
  },
  {
   "cell_type": "code",
   "execution_count": null,
   "metadata": {},
   "outputs": [],
   "source": [
    "gim.wavelength"
   ]
  },
  {
   "cell_type": "code",
   "execution_count": null,
   "metadata": {},
   "outputs": [],
   "source": [
    "gim.meta.wcsinfo.crpix1, gim.meta.wcsinfo.crpix2, gim.meta.wcsinfo.crval1, gim.meta.wcsinfo.crval2, gim.meta.wcsinfo.v2_ref, gim.meta.wcsinfo.v3_ref, gim.meta.wcsinfo.v3yangle, gim.meta.wcsinfo.roll_ref"
   ]
  },
  {
   "cell_type": "markdown",
   "metadata": {},
   "source": [
    "## Take a look at the image we have"
   ]
  },
  {
   "cell_type": "code",
   "execution_count": null,
   "metadata": {},
   "outputs": [],
   "source": [
    "ys,xs=gim.shape[1:]\n",
    "fig = plt.figure(figsize=(8,8), dpi=150)\n",
    "ax = fig.add_subplot(1, 2, 1)\n",
    "ax.set_title(tsgrism_image.split(\"/\")[-1]+\"[0]\", fontsize=8)\n",
    "ax.imshow(gim.data[0], origin='lower', extent=[0,xs,0,ys], vmin=-3, vmax=3)\n",
    "\n",
    "ax2 = fig.add_subplot(1, 2, 2)\n",
    "ax2.set_title(tsgrism_image.split(\"/\")[-1]+\"[1]\", fontsize=8)\n",
    "ax2.imshow(gim.data[1], origin='lower', extent=[0,xs,0,ys], vmin=-3, vmax=3)\n",
    "\n",
    "fig.tight_layout()"
   ]
  },
  {
   "cell_type": "markdown",
   "metadata": {},
   "source": [
    "### Get the reference files for use with our image"
   ]
  },
  {
   "cell_type": "code",
   "execution_count": null,
   "metadata": {},
   "outputs": [],
   "source": [
    "step=assign_wcs.AssignWcsStep()\n",
    "distortion=step.get_reference_file(gim,'distortion')\n",
    "specwcs=step.get_reference_file(gim, 'specwcs')\n",
    "reference_file_names = {'camera': 'N/A',\n",
    " 'collimator': 'N/A',\n",
    " 'disperser': 'N/A',\n",
    " 'distortion': distortion,\n",
    " 'filteroffset': 'N/A',\n",
    " 'fore': 'N/A',\n",
    " 'fpa': 'N/A',\n",
    " 'ifufore': 'N/A',\n",
    " 'ifupost': 'N/A',\n",
    " 'ifuslicer': 'N/A',\n",
    " 'msa': 'N/A',\n",
    " 'ote': 'N/A',\n",
    " 'regions': 'N/A',\n",
    " 'specwcs': specwcs,\n",
    " 'v2v3': 'N/A',\n",
    " 'wavelengthrange': 'N/A'}"
   ]
  },
  {
   "cell_type": "code",
   "execution_count": null,
   "metadata": {},
   "outputs": [],
   "source": [
    "reference_file_names"
   ]
  },
  {
   "cell_type": "markdown",
   "metadata": {},
   "source": [
    "### We need to do the subarray transform on either side of the grism trace. This is blurred in the grism() assign_wcs because the regular grism mode doesn't allow subarrays."
   ]
  },
  {
   "cell_type": "code",
   "execution_count": null,
   "metadata": {},
   "outputs": [],
   "source": [
    "print(gim.meta.subarray.name)\n",
    "tsgrism_pipeline=nircam.tsgrism(gim,reference_file_names)  # create the wcs pipeline"
   ]
  },
  {
   "cell_type": "code",
   "execution_count": null,
   "metadata": {},
   "outputs": [],
   "source": [
    "tsgrism_pipeline"
   ]
  },
  {
   "cell_type": "code",
   "execution_count": null,
   "metadata": {},
   "outputs": [],
   "source": [
    "from gwcs.wcs import WCS\n",
    "tswcs=WCS(tsgrism_pipeline)"
   ]
  },
  {
   "cell_type": "markdown",
   "metadata": {},
   "source": [
    "#### This will detail the available transformation frames"
   ]
  },
  {
   "cell_type": "code",
   "execution_count": null,
   "metadata": {},
   "outputs": [],
   "source": [
    "tswcs.available_frames"
   ]
  },
  {
   "cell_type": "markdown",
   "metadata": {},
   "source": [
    "### In grism time-series mode, the Module A Grism R is used to disperse the target's spectrum along (parallel to) detector rows. The grism is used in conjunction with one of 4 wide filters in the long wavelength channel (2.4–5.0 µm): F277W, F322W2, F356W, and F444W."
   ]
  },
  {
   "cell_type": "code",
   "execution_count": null,
   "metadata": {},
   "outputs": [],
   "source": [
    "tswcs  # the three inputs are x, y, order"
   ]
  },
  {
   "cell_type": "markdown",
   "metadata": {},
   "source": [
    "### Translate pixel 100,100 in the tso grism image for source location crpix1, crpix2, and order 1"
   ]
  },
  {
   "cell_type": "code",
   "execution_count": null,
   "metadata": {},
   "outputs": [],
   "source": [
    "tswcs(100,100,1)  # returns ra, dec, wave, order"
   ]
  },
  {
   "cell_type": "code",
   "execution_count": null,
   "metadata": {},
   "outputs": [],
   "source": [
    "gim.get_fits_wcs()\n",
    "#gim.meta.wcsinfo.crval1, gim.meta.wcsinfo.crval2, gim.meta.wcsinfo.crpix1, gim.meta.wcsinfo.crpix2"
   ]
  },
  {
   "cell_type": "markdown",
   "metadata": {},
   "source": [
    "#### Change the location. The wavelength should change, but the ra, dec should be the same"
   ]
  },
  {
   "cell_type": "code",
   "execution_count": null,
   "metadata": {},
   "outputs": [],
   "source": [
    "tswcs(200,200,1)"
   ]
  },
  {
   "cell_type": "markdown",
   "metadata": {},
   "source": [
    "#### This should return the same x value and CRPIX2 for y, since the transforms for NIRCAM return 0 for GRISMR in the y so that the extraction box can be chosen around that"
   ]
  },
  {
   "cell_type": "code",
   "execution_count": null,
   "metadata": {},
   "outputs": [],
   "source": [
    "tswcs.invert(3.2472519999724887, 1.0)"
   ]
  },
  {
   "cell_type": "markdown",
   "metadata": {},
   "source": [
    "#### This should return error about and invalid order since order 3 is not available"
   ]
  },
  {
   "cell_type": "code",
   "execution_count": null,
   "metadata": {},
   "outputs": [],
   "source": [
    "tswcs(100,100,3)"
   ]
  },
  {
   "cell_type": "code",
   "execution_count": null,
   "metadata": {},
   "outputs": [],
   "source": [
    "tswcs.input_frame, tswcs.output_frame"
   ]
  },
  {
   "cell_type": "code",
   "execution_count": null,
   "metadata": {},
   "outputs": [],
   "source": [
    "tswcs.get_transform('world','v2v3')"
   ]
  },
  {
   "cell_type": "code",
   "execution_count": null,
   "metadata": {},
   "outputs": [],
   "source": [
    "tswcs.get_transform('v2v3', 'world')"
   ]
  },
  {
   "cell_type": "markdown",
   "metadata": {},
   "source": [
    "# Now go back to the image and see if we can get extract_2d to go to the correct place"
   ]
  },
  {
   "cell_type": "code",
   "execution_count": null,
   "metadata": {},
   "outputs": [],
   "source": [
    "ys,xs=gim.shape[1:]\n",
    "fig = plt.figure(figsize=(8,8), dpi=150)\n",
    "ax = fig.add_subplot(1, 1, 1)\n",
    "ax.set_adjustable('box-forced')\n",
    "ax.set_title(tsgrism_image.split(\"/\")[-1]+\"[0]\", fontsize=8)\n",
    "ax.imshow(gim.data[0], origin='lower', extent=[0,xs,0,ys], vmin=-3, vmax=3)\n",
    "\n",
    "fig.tight_layout()"
   ]
  },
  {
   "cell_type": "code",
   "execution_count": null,
   "metadata": {},
   "outputs": [],
   "source": [
    "from jwst.extract_2d import extract_2d_step, extract_2d"
   ]
  },
  {
   "cell_type": "code",
   "execution_count": null,
   "metadata": {},
   "outputs": [],
   "source": [
    "step=extract_2d_step.Extract2dStep()\n",
    "reference_file_names = {'camera': 'N/A',\n",
    " 'collimator': 'N/A',\n",
    " 'disperser': 'N/A',\n",
    " 'distortion': step.get_reference_file(gim,'distortion'),\n",
    " 'filteroffset': 'N/A',\n",
    " 'fore': 'N/A',\n",
    " 'fpa': 'N/A',\n",
    " 'ifufore': 'N/A',\n",
    " 'ifupost': 'N/A',\n",
    " 'ifuslicer': 'N/A',\n",
    " 'msa': 'N/A',\n",
    " 'ote': 'N/A',\n",
    " 'regions': 'N/A',\n",
    " 'specwcs':  step.get_reference_file(gim,'specwcs'),\n",
    " 'v2v3': 'N/A',\n",
    " 'wavelengthrange': step.get_reference_file(gim, 'wavelengthrange')}"
   ]
  },
  {
   "cell_type": "code",
   "execution_count": null,
   "metadata": {},
   "outputs": [],
   "source": [
    "reference_file_names"
   ]
  },
  {
   "cell_type": "markdown",
   "metadata": {},
   "source": [
    "## Set the wavelengthrange reference file to the one we updated, but hasn't yet been accepted to CRDS"
   ]
  },
  {
   "cell_type": "code",
   "execution_count": null,
   "metadata": {},
   "outputs": [],
   "source": [
    "# run assign_wcs step on the image to attach the gwcs object we created\n",
    "tso_wcs_assigned = assign_wcs.assign_wcs.load_wcs(gim, reference_files=reference_file_names)"
   ]
  },
  {
   "cell_type": "code",
   "execution_count": null,
   "metadata": {},
   "outputs": [],
   "source": [
    "tso_wcs_assigned.meta.instrument.filter"
   ]
  },
  {
   "cell_type": "code",
   "execution_count": null,
   "metadata": {},
   "outputs": [],
   "source": [
    "from jwst.datamodels import WavelengthrangeModel\n",
    "wrm = WavelengthrangeModel(reference_file_names['wavelengthrange'])"
   ]
  },
  {
   "cell_type": "code",
   "execution_count": null,
   "metadata": {},
   "outputs": [],
   "source": [
    "print(wrm.wavelengthrange)\n",
    "print()\n",
    "print(wrm.waverange_selector)"
   ]
  },
  {
   "cell_type": "code",
   "execution_count": null,
   "metadata": {},
   "outputs": [],
   "source": [
    "import asdf\n",
    "test_read=asdf.open(reference_file_names['wavelengthrange'])\n",
    "test_read.tree"
   ]
  },
  {
   "cell_type": "code",
   "execution_count": null,
   "metadata": {},
   "outputs": [],
   "source": [
    "with WavelengthrangeModel(reference_file_names['wavelengthrange']) as f:\n",
    "    if (f.meta.instrument.name != 'NIRCAM'):\n",
    "        raise ValueError(\"Wavelengthrange reference file not for NIRCAM!\")\n",
    "    wavelengthrange = f.wavelengthrange\n",
    "    waverange_selector = f.waverange_selector\n",
    "    orders = f.order\n",
    "    extract_orders = f.extract_orders\n",
    "    print(f.meta.instrument.name)\n",
    "\n",
    "print(wavelengthrange)\n",
    "range_select = [(x[2], x[3]) for x in wavelengthrange if (x[0] == 1 and x[1] == 'F444W')]\n",
    "lmin, lmax = range_select.pop()\n",
    "print(lmin, lmax)"
   ]
  },
  {
   "cell_type": "code",
   "execution_count": null,
   "metadata": {},
   "outputs": [],
   "source": [
    "from jwst.datamodels import SpecwcsModel\n",
    "print(reference_file_names['specwcs'])\n",
    "spec=SpecwcsModel(reference_file_names['specwcs'])\n"
   ]
  },
  {
   "cell_type": "code",
   "execution_count": null,
   "metadata": {},
   "outputs": [],
   "source": [
    "spec.instance"
   ]
  },
  {
   "cell_type": "code",
   "execution_count": null,
   "metadata": {},
   "outputs": [],
   "source": [
    "x2d = extract_2d.extract_tso_object(tso_wcs_assigned, reference_files=reference_file_names, extract_height=64)"
   ]
  },
  {
   "cell_type": "code",
   "execution_count": null,
   "metadata": {},
   "outputs": [],
   "source": [
    "x2d.instance"
   ]
  },
  {
   "cell_type": "code",
   "execution_count": null,
   "metadata": {},
   "outputs": [],
   "source": [
    "x2d.data.shape"
   ]
  },
  {
   "cell_type": "code",
   "execution_count": null,
   "metadata": {},
   "outputs": [],
   "source": [
    "x2d.meta.wcs"
   ]
  },
  {
   "cell_type": "code",
   "execution_count": null,
   "metadata": {},
   "outputs": [],
   "source": [
    "x2d.meta.wcs(887, 35)"
   ]
  },
  {
   "cell_type": "code",
   "execution_count": null,
   "metadata": {},
   "outputs": [],
   "source": [
    "x2d.meta.wcs.invert(4.586513215999723, 1.0)"
   ]
  },
  {
   "cell_type": "code",
   "execution_count": null,
   "metadata": {},
   "outputs": [],
   "source": [
    "x2d.meta.wcsinfo.instance"
   ]
  },
  {
   "cell_type": "code",
   "execution_count": null,
   "metadata": {},
   "outputs": [],
   "source": [
    "x2d.ysize, x2d.xsize, x2d.shape, gim.shape"
   ]
  },
  {
   "cell_type": "code",
   "execution_count": null,
   "metadata": {},
   "outputs": [],
   "source": [
    "x2d.wavelength"
   ]
  },
  {
   "cell_type": "code",
   "execution_count": null,
   "metadata": {},
   "outputs": [],
   "source": [
    "ys,xs=gim.shape[1:]\n",
    "fig = plt.figure(figsize=(10,10), dpi=150)\n",
    "ax3 = fig.add_subplot(1, 3, 1)\n",
    "ax3.set_title(tsgrism_image.split(\"/\")[-1]+\"[0]\", fontsize=8)\n",
    "ax3.imshow(gim.data[0], origin='lower', extent=[0,xs,0,ys], vmin=-3, vmax=3)\n",
    "\n",
    "zs, ys, xs = x2d.data.shape\n",
    "fig = plt.figure(figsize=(10,10), dpi=150)\n",
    "ax = fig.add_subplot(1, 3, 2)\n",
    "xpos, ypos = x2d.source_xpos, x2d.source_ypos\n",
    "title = x2d.meta.instrument.filter+\" order {0}\\nx={1} y={2}\".format(x2d.meta.wcsinfo.spectral_order,\n",
    "                                                                    xpos,\n",
    "                                                                    ypos)\n",
    "ax.set_title(title, fontsize=8)\n",
    "ax.imshow(x2d.data[0,:,:], origin='lower', extent=[0,xs,0,ys], vmin=-3, vmax=3)\n",
    "\n",
    "\n",
    "ax2.set_title(title, fontsize=8)\n",
    "ax2.imshow(x2d.data[0,:,:], origin='lower', extent=[0,xs,0,ys], vmin=-3, vmax=3)\n",
    "\n",
    "fig.tight_layout()"
   ]
  },
  {
   "cell_type": "code",
   "execution_count": null,
   "metadata": {},
   "outputs": [],
   "source": [
    "tso_wcs_assigned.data.shape"
   ]
  },
  {
   "cell_type": "code",
   "execution_count": null,
   "metadata": {},
   "outputs": [],
   "source": [
    "x2d.data.shape"
   ]
  },
  {
   "cell_type": "code",
   "execution_count": null,
   "metadata": {},
   "outputs": [],
   "source": [
    "x2d.source_xpos, x2d.source_ypos"
   ]
  },
  {
   "cell_type": "code",
   "execution_count": null,
   "metadata": {},
   "outputs": [],
   "source": [
    "x2d.xsize, x2d.ysize"
   ]
  },
  {
   "cell_type": "markdown",
   "metadata": {},
   "source": [
    "## We should also be able to call the extraction and override the extract_orders for filter, this should produce a SlitModel output for just the order specified"
   ]
  },
  {
   "cell_type": "code",
   "execution_count": null,
   "metadata": {},
   "outputs": [],
   "source": [
    "x2d_single = extract_2d.extract_tso_object(tso_wcs_assigned, reference_files=reference_file_names, extract_orders=[1])"
   ]
  },
  {
   "cell_type": "code",
   "execution_count": null,
   "metadata": {},
   "outputs": [],
   "source": [
    "x2d_single.meta.model_type  # should be SlitModel this time"
   ]
  },
  {
   "cell_type": "code",
   "execution_count": null,
   "metadata": {},
   "outputs": [],
   "source": [
    "x2d_single.data.shape # should exist and be 3D"
   ]
  },
  {
   "cell_type": "code",
   "execution_count": null,
   "metadata": {},
   "outputs": [],
   "source": [
    "x2d_single.meta.wcsinfo.spectral_order"
   ]
  },
  {
   "cell_type": "code",
   "execution_count": null,
   "metadata": {},
   "outputs": [],
   "source": [
    "x2d_single.meta.wcs"
   ]
  },
  {
   "cell_type": "code",
   "execution_count": null,
   "metadata": {},
   "outputs": [],
   "source": [
    "ys,xs=gim.shape[1:]\n",
    "fig = plt.figure(figsize=(10,10), dpi=150)\n",
    "ax3 = fig.add_subplot(1, 3, 1)\n",
    "ax3.set_title(tsgrism_image.split(\"/\")[-1]+\"[0]\", fontsize=8)\n",
    "ax3.imshow(gim.data[0], origin='lower', extent=[0,xs,0,ys], vmin=-3, vmax=3)\n",
    "\n",
    "zs, ys, xs = x2d_single.data.shape\n",
    "fig = plt.figure(figsize=(10,10), dpi=150)\n",
    "ax = fig.add_subplot(1, 3, 2)\n",
    "xpos, ypos = x2d_single.source_xpos, x2d_single.source_ypos\n",
    "title = x2d.meta.instrument.filter+\" order {0}\\nx={1} y={2}\".format(x2d_single.meta.wcsinfo.spectral_order,\n",
    "                                                                    xpos,\n",
    "                                                                    ypos)\n",
    "ax.set_title(title, fontsize=8)\n",
    "ax.imshow(x2d_single.data[0,:,:], origin='lower', extent=[0,xs,0,ys], vmin=-3, vmax=3)\n"
   ]
  },
  {
   "cell_type": "markdown",
   "metadata": {},
   "source": [
    "## Check that height can be specified"
   ]
  },
  {
   "cell_type": "code",
   "execution_count": null,
   "metadata": {},
   "outputs": [],
   "source": [
    "from jwst.extract_2d.grisms import extract_tso_object"
   ]
  },
  {
   "cell_type": "markdown",
   "metadata": {},
   "source": [
    "### The source should always be returned at pixel 34, even if the extract height doesn't allow for that."
   ]
  },
  {
   "cell_type": "code",
   "execution_count": null,
   "metadata": {},
   "outputs": [],
   "source": [
    "x2d_single = extract_tso_object(tso_wcs_assigned, reference_files=reference_file_names, extract_orders=[1], extract_height=50)"
   ]
  },
  {
   "cell_type": "code",
   "execution_count": null,
   "metadata": {},
   "outputs": [],
   "source": [
    "x2d_single.meta.model_type  # should be SlitModel this time"
   ]
  },
  {
   "cell_type": "code",
   "execution_count": null,
   "metadata": {},
   "outputs": [],
   "source": [
    "x2d_single.data.shape # should exist and be 3D"
   ]
  },
  {
   "cell_type": "code",
   "execution_count": null,
   "metadata": {},
   "outputs": [],
   "source": [
    "x2d_single.meta.wcsinfo.spectral_order, x2d_single.ysize, x2d_single.xsize"
   ]
  },
  {
   "cell_type": "code",
   "execution_count": null,
   "metadata": {},
   "outputs": [],
   "source": [
    "ys,xs=gim.shape[1:]\n",
    "fig = plt.figure(figsize=(10,10), dpi=150)\n",
    "ax3 = fig.add_subplot(1, 3, 1)\n",
    "ax3.set_title(tsgrism_image.split(\"/\")[-1]+\"[0]\", fontsize=8)\n",
    "ax3.imshow(gim.data[0], origin='lower', extent=[0,xs,0,ys], vmin=-3, vmax=3)\n",
    "\n",
    "zs, ys, xs = x2d_single.data.shape\n",
    "fig = plt.figure(figsize=(10,10), dpi=150)\n",
    "ax = fig.add_subplot(1, 3, 2)\n",
    "xpos, ypos = x2d_single.source_xpos, x2d_single.source_ypos\n",
    "title = x2d.meta.instrument.filter+\" order {0}\\nx={1} y={2}\".format(x2d_single.meta.wcsinfo.spectral_order,\n",
    "                                                                    xpos,\n",
    "                                                                    ypos)\n",
    "ax.set_title(title, fontsize=8)\n",
    "ax.imshow(x2d_single.data[0,:,:], origin='lower', extent=[0,xs,0,ys], vmin=-3, vmax=3)\n"
   ]
  },
  {
   "cell_type": "code",
   "execution_count": null,
   "metadata": {},
   "outputs": [],
   "source": [
    "x2d.write('blah.fits')  # extract2d saves a SlitModel"
   ]
  },
  {
   "cell_type": "code",
   "execution_count": null,
   "metadata": {},
   "outputs": [],
   "source": [
    "from jwst import datamodels\n",
    "blah=datamodels.open('blah.fits')"
   ]
  },
  {
   "cell_type": "code",
   "execution_count": null,
   "metadata": {},
   "outputs": [],
   "source": [
    "blah  # should have been read in as a SlitModel"
   ]
  },
  {
   "cell_type": "code",
   "execution_count": null,
   "metadata": {},
   "outputs": [],
   "source": []
  }
 ],
 "metadata": {
  "kernelspec": {
   "display_name": "Python 3",
   "language": "python",
   "name": "python3"
  },
  "language_info": {
   "codemirror_mode": {
    "name": "ipython",
    "version": 3
   },
   "file_extension": ".py",
   "mimetype": "text/x-python",
   "name": "python",
   "nbconvert_exporter": "python",
   "pygments_lexer": "ipython3",
   "version": "3.6.7"
  }
 },
 "nbformat": 4,
 "nbformat_minor": 2
}
