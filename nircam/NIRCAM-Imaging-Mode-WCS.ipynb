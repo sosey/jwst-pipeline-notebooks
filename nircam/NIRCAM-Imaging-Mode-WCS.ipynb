{
 "cells": [
  {
   "cell_type": "markdown",
   "metadata": {},
   "source": [
    "# Walkthrough the NIRCAM imaging mode  WCS pipeline"
   ]
  },
  {
   "cell_type": "markdown",
   "metadata": {},
   "source": [
    "### Make sure that you have set the JWST_NOTEBOOK_DATA environment variable in the terminal from which you started Jupyter Notebook.\n",
    "\n",
    "The data will be read from that directory, and the pipeline should write to the current working directory, avoiding clobbers.\n",
    "If you would like to use your own data just substitute the locations below."
   ]
  },
  {
   "cell_type": "code",
   "execution_count": null,
   "metadata": {},
   "outputs": [],
   "source": [
    "# plotting, the inline must come before the matplotlib import\n",
    "%matplotlib inline\n",
    "from matplotlib import pyplot as plt\n",
    "import matplotlib.patches as patches\n",
    "\n",
    "params = {'legend.fontsize': 6,\n",
    "          'figure.figsize': (8, 8),\n",
    "          'figure.dpi': 150,\n",
    "         'axes.labelsize': 6,\n",
    "         'axes.titlesize': 6,\n",
    "         'xtick.labelsize':6,\n",
    "         'ytick.labelsize':6}\n",
    "plt.rcParams.update(params)\n",
    "\n",
    "\n",
    "# python general\n",
    "import os\n",
    "import numpy as np\n",
    "\n",
    "# astropy modules\n",
    "import astropy\n",
    "from astropy.io import fits\n",
    "from astropy.table import QTable\n",
    "from astropy.wcs.utils import skycoord_to_pixel\n",
    "import photutils\n",
    "\n",
    "# jwst \n",
    "import jwst\n",
    "from jwst.source_catalog import source_catalog_step\n",
    "from jwst.datamodels import image, DrizProductModel\n",
    "from jwst import assign_wcs\n",
    "from jwst.assign_wcs import assign_wcs_step"
   ]
  },
  {
   "cell_type": "code",
   "execution_count": null,
   "metadata": {},
   "outputs": [],
   "source": [
    "import jwst\n",
    "jwst.__version__"
   ]
  },
  {
   "cell_type": "code",
   "execution_count": null,
   "metadata": {},
   "outputs": [],
   "source": [
    "notebook_dir = os.environ['JWST_NOTEBOOK_DATA']\n",
    "nircam_data = notebook_dir + 'nircam/'"
   ]
  },
  {
   "cell_type": "code",
   "execution_count": null,
   "metadata": {},
   "outputs": [],
   "source": [
    "# add in the columns for ra and dec min/max points, translated from the wcs object for now\n",
    "direct_data= nircam_data + 'test_disperse_f335m_rate_updated.fits'   # original image provided for testing\n",
    "\n",
    "# We will open the direct image as an Image datamodel\n",
    "direct_image = image.ImageModel(direct_data)"
   ]
  },
  {
   "cell_type": "markdown",
   "metadata": {},
   "source": [
    "### Some basics about this image"
   ]
  },
  {
   "cell_type": "code",
   "execution_count": null,
   "metadata": {},
   "outputs": [],
   "source": [
    "direct_image.meta.instrument.pupil, direct_image.meta.instrument.filter, direct_image.meta.instrument.module, direct_image.meta.instrument.detector, direct_image.meta.instrument.channel"
   ]
  },
  {
   "cell_type": "markdown",
   "metadata": {},
   "source": [
    "### This is the FITS WCS information"
   ]
  },
  {
   "cell_type": "code",
   "execution_count": null,
   "metadata": {},
   "outputs": [],
   "source": [
    "direct_image.get_fits_wcs()"
   ]
  },
  {
   "cell_type": "code",
   "execution_count": null,
   "metadata": {},
   "outputs": [],
   "source": [
    "# Load up the assign_wcs step that will assign all the transforms from world->detector\n",
    "assign_wcs_step=assign_wcs.AssignWcsStep()\n",
    "reference_file_types = ['distortion', 'filteroffset', 'specwcs', 'regions',\n",
    "                            'wavelengthrange', 'camera', 'collimator',\n",
    "                            'disperser', 'fore', 'fpa', 'msa', 'ote', 'ifupost',\n",
    "                            'ifufore', 'ifuslicer']\n",
    "reference_file_names = {}\n",
    "\n",
    "# Ask CRDS for the reference files that apply to the image are working with\n",
    "for name in reference_file_types:\n",
    "    reffile = assign_wcs_step.get_reference_file(direct_image, name)\n",
    "    reference_file_names[name] = reffile if reffile else \"\"\n",
    "reference_file_names"
   ]
  },
  {
   "cell_type": "code",
   "execution_count": null,
   "metadata": {},
   "outputs": [],
   "source": [
    "direct_gwcs = assign_wcs_step(direct_image)"
   ]
  },
  {
   "cell_type": "markdown",
   "metadata": {},
   "source": [
    "### The GWCS object that contains all the transforms is now attached to the image model"
   ]
  },
  {
   "cell_type": "code",
   "execution_count": null,
   "metadata": {},
   "outputs": [],
   "source": [
    "direct_gwcs.meta.wcs"
   ]
  },
  {
   "cell_type": "markdown",
   "metadata": {},
   "source": [
    "### Check the transform from detector pixels to sky coordinates in decimal degrees of RA and DEC"
   ]
  },
  {
   "cell_type": "markdown",
   "metadata": {},
   "source": [
    "The default transform goes from detector pixels to sky coordinate (ra,dec)"
   ]
  },
  {
   "cell_type": "code",
   "execution_count": null,
   "metadata": {},
   "outputs": [],
   "source": [
    "direct_gwcs.meta.wcs(110,110)"
   ]
  },
  {
   "cell_type": "code",
   "execution_count": null,
   "metadata": {},
   "outputs": [],
   "source": [
    "detector_to_world = direct_gwcs.meta.wcs.get_transform('detector','world')\n",
    "detector_to_world(110,110)"
   ]
  },
  {
   "cell_type": "markdown",
   "metadata": {},
   "source": [
    "### Now get the inverse transform from RA,DEC  to detector pixels, using the RA,DEC we just calculated\n",
    "This should return the pixel (110,110)"
   ]
  },
  {
   "cell_type": "code",
   "execution_count": null,
   "metadata": {},
   "outputs": [],
   "source": [
    "world_to_detector = direct_gwcs.meta.wcs.get_transform('world','detector')\n",
    "world_to_detector(0.00804448203007923, -0.007899731808577077)"
   ]
  },
  {
   "cell_type": "code",
   "execution_count": null,
   "metadata": {},
   "outputs": [],
   "source": []
  }
 ],
 "metadata": {
  "kernelspec": {
   "display_name": "Python 3",
   "language": "python",
   "name": "python3"
  },
  "language_info": {
   "codemirror_mode": {
    "name": "ipython",
    "version": 3
   },
   "file_extension": ".py",
   "mimetype": "text/x-python",
   "name": "python",
   "nbconvert_exporter": "python",
   "pygments_lexer": "ipython3",
   "version": "3.6.7"
  }
 },
 "nbformat": 4,
 "nbformat_minor": 2
}
