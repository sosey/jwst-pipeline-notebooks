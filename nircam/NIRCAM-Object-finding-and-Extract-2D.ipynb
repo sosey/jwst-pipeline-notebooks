{
 "cells": [
  {
   "cell_type": "markdown",
   "metadata": {},
   "source": [
    "# NIRCAM - Finding and validating the location of object specta for the WFSS mode\n",
    "There are no NIRCAM grism simulations available here: http://archive.stsci.edu/jwst/simulations/nircam.html\n",
    "so the following example uses images supplied by the team. Contact Bryan Hilbert.\n",
    "\n",
    "This notebook will walk you through extracting grism spectra using a catalog of sources. "
   ]
  },
  {
   "cell_type": "markdown",
   "metadata": {},
   "source": [
    "## Make sure that you have set the JWST_NOTEBOOK_DATA environment variable in the terminal from which you started Jupyter Notebook.\n",
    "\n",
    "The data will be read from that directory, and the pipeline should write to the current working directory, avoiding clobbers.\n",
    "If you would like to use your own data just substitute the locations below."
   ]
  },
  {
   "cell_type": "code",
   "execution_count": null,
   "metadata": {},
   "outputs": [],
   "source": [
    "# plotting, the inline must come before the matplotlib import\n",
    "%matplotlib inline\n",
    "from matplotlib import pyplot as plt\n",
    "import matplotlib.patches as patches\n",
    "\n",
    "params = {'legend.fontsize': 6,\n",
    "          'figure.figsize': (8, 8),\n",
    "          'figure.dpi': 150,\n",
    "         'axes.labelsize': 6,\n",
    "         'axes.titlesize': 6,\n",
    "         'xtick.labelsize':6,\n",
    "         'ytick.labelsize':6}\n",
    "plt.rcParams.update(params)\n",
    "\n",
    "\n",
    "# python general\n",
    "import os\n",
    "import numpy as np\n",
    "\n",
    "# astropy modules\n",
    "import astropy\n",
    "from astropy.io import fits\n",
    "from astropy.table import QTable\n",
    "from astropy.wcs.utils import skycoord_to_pixel\n",
    "import photutils\n",
    "\n",
    "# jwst \n",
    "import jwst\n",
    "from jwst.source_catalog import source_catalog_step\n",
    "from jwst.datamodels import image, DrizProductModel, WavelengthrangeModel\n",
    "from jwst import assign_wcs\n",
    "from jwst.assign_wcs import assign_wcs_step"
   ]
  },
  {
   "cell_type": "code",
   "execution_count": null,
   "metadata": {},
   "outputs": [],
   "source": [
    "print(\"Using jwst pipeline version: {}\\nastropy version: {}\\n photutils version: {}\".format(jwst.__version__, astropy.__version__, photutils.__version__ ))"
   ]
  },
  {
   "cell_type": "markdown",
   "metadata": {},
   "source": [
    "## Example model data from the science team\n",
    "\n",
    "    NIRCam WFSS datasets for pipeline testing:\n",
    "\n",
    "    12 pointings (3 dither positions, with 4 subpixel dithers),\n",
    "    for each of row and column dispersed spectra. Associated direct\n",
    "    images and out-of-field observations, along with\n",
    "    all of the associated shortwave channel data, which is\n",
    "    all imaging mode.\n",
    "\n",
    "\n",
    "    Filenames are (e.g.) V54321001002P0000000001101_A1_F150W_uncal.fits\n",
    "    for imaging files, and\n",
    "    V54321001003P0000000001116_A5_F444W_FinalDispersedRamp_XXX_uncal.fits\n",
    "    for dispersed files, where XXX can be 'row' or 'column'.\n",
    "\n",
    "\n",
    "\n",
    "    Cheat sheet:\n",
    "    File numbers below are the 4 digits immediately before the first\n",
    "    underscore in the filename.\n",
    "\n",
    "\n",
    "    File number       Description\n",
    "\n",
    "\n",
    "    **************************************\n",
    "    ********Observation 2*****************\n",
    "\n",
    "    1101 - 1109       LW:12 dithered grism observations, row dispersed, and\n",
    "    110a - 110c       complimentary SW imaging data\n",
    "\n",
    "    110d              LW: Direct image, SW: complimentary imaging data\n",
    "\n",
    "    110e and 110f     out-of-field observations\n",
    "\n",
    "    110g to 110r      LW:12 dithered grism observations, column dispersed,\n",
    "                      and SW: complimentary imaging data\n",
    "\n",
    "    110s              LW: Direct image, SW: complimentary imaging data\n",
    "\n",
    "    110t and 110u     out-of-field observations\n",
    "    \n",
    "    **************************************\n",
    "    *********Observation 3****************\n",
    "    110v - 110z       LW:12 dithered grism observations, row dispersed, and\n",
    "    1110 - 1116       SW:complimentary imaging data\n",
    "\n",
    "    1117              LW: Direct image, SW: complimentary imaging data\n",
    "\n",
    "    1118 - 1119       out-of-field observations\n",
    "\n",
    "    111a - 111l       LW:12 dithered grism observations, column dispersed,\n",
    "                      and SW: complimentary imaging data\n",
    "\n",
    "    111m              LW: Direct image, SW: complimentary imaging data\n",
    "\n",
    "    111n - 111o       out-of-field observations\n",
    "\n",
    "\n"
   ]
  },
  {
   "cell_type": "markdown",
   "metadata": {},
   "source": [
    "### I've selected the following datasets to use as examples in this notebook. The other datasets can also be validated in the same manner.\n",
    "\n",
    "#### Row dispersed data\n",
    "    V54321001002P000000000110d_A5_F444W_rate.fits\n",
    "    V54321001002P0000000001101_A5_F444W_FinalDispersedRamp_row_rate.fits\n",
    "\n",
    "#### Column dispersed data\n",
    "    V54321001002P000000000110g_A5_F444W_FinalDispersedRamp_column_rate.fits\n",
    "    V54321001002P000000000110s_A5_F444W_rate.fits\n"
   ]
  },
  {
   "cell_type": "code",
   "execution_count": null,
   "metadata": {},
   "outputs": [],
   "source": [
    "notebook_dir = os.environ['JWST_NOTEBOOK_DATA']\n",
    "nircam_data = notebook_dir + 'nircam/'\n",
    "\n",
    "grismr_file = nircam_data + 'V54321001002P0000000001101_A5_F444W_FinalDispersedRamp_row_rate.fits'  # this is a row dispersed grism image\n",
    "directr_file = nircam_data + 'V54321001002P000000000110d_A5_F444W_rate.fits'  # this is a filtered image\n",
    "grismc_file = nircam_data + 'V54321001002P000000000110g_A5_F444W_FinalDispersedRamp_column_rate'  # this is a column dispersed grism image\n",
    "directc_file = nircam_data + 'V54321001002P000000000110s_A5_F444W_rate.fits'  # this is a filtered image"
   ]
  },
  {
   "cell_type": "markdown",
   "metadata": {},
   "source": [
    "#### let's look at what the row dispersed images contain\n",
    "\n",
    "You should already be able to tell the grism image was taken at a different pointing that the direct image"
   ]
  },
  {
   "cell_type": "code",
   "execution_count": null,
   "metadata": {},
   "outputs": [],
   "source": [
    "dispim=fits.open(grismr_file)\n",
    "dirim=fits.open(directr_file)\n",
    "ys,xs=dirim[1].data.shape\n",
    "fig = plt.figure(figsize=(8,8), dpi=150)\n",
    "ax = fig.add_subplot(1, 2, 1)\n",
    "ax.set_title(directr_file.split(\"/\")[-1], fontsize=8)\n",
    "ax.imshow(dirim[1].data, origin='lower', extent=[0,xs,0,ys], vmin=-3, vmax=3)\n",
    "ax2 = fig.add_subplot(1, 2, 2)\n",
    "ax2.set_title(grismr_file.split(\"/\")[-1], fontsize=8)\n",
    "ax2.imshow(dispim[1].data, origin='lower', extent=[0,xs,0,ys], vmin=-3, vmax=3)\n",
    "fig.tight_layout()\n",
    "fig.savefig('nircam_image_comparison.jpg')\n",
    "dispim.close()\n",
    "dirim.close()"
   ]
  },
  {
   "cell_type": "markdown",
   "metadata": {},
   "source": [
    "#### You should be able to tell from the above images that the grism image has been taken at a different pointing from the direct image"
   ]
  },
  {
   "cell_type": "markdown",
   "metadata": {},
   "source": [
    "## We are going to create a source catalog for our direct image\n",
    "If you've already worked through the notebook in general/Create-Source-Catalog notebook the following cells will look familiar"
   ]
  },
  {
   "cell_type": "markdown",
   "metadata": {},
   "source": [
    "#### Create the source catalog step object"
   ]
  },
  {
   "cell_type": "code",
   "execution_count": null,
   "metadata": {},
   "outputs": [],
   "source": [
    "sc=source_catalog_step.SourceCatalogStep(save_results=True)"
   ]
  },
  {
   "cell_type": "code",
   "execution_count": null,
   "metadata": {},
   "outputs": [],
   "source": [
    "print(sc.spec)  # display the defaults"
   ]
  },
  {
   "cell_type": "markdown",
   "metadata": {},
   "source": [
    "### Open our image as a datamodel and find the sources"
   ]
  },
  {
   "cell_type": "code",
   "execution_count": null,
   "metadata": {},
   "outputs": [],
   "source": [
    "dpm=DrizProductModel(directr_file)"
   ]
  },
  {
   "cell_type": "markdown",
   "metadata": {},
   "source": [
    "#### check out some quick information about the image we are using"
   ]
  },
  {
   "cell_type": "code",
   "execution_count": null,
   "metadata": {},
   "outputs": [],
   "source": [
    "dpm.meta.subarray.name, dpm.meta.instrument.name, dpm.meta.instrument.detector, dpm.meta.instrument.channel, dpm.meta.instrument.filter, dpm.meta.instrument.pupil, dpm.meta.instrument.module, dpm.meta.exposure.type"
   ]
  },
  {
   "cell_type": "code",
   "execution_count": null,
   "metadata": {},
   "outputs": [],
   "source": [
    "# Add this if your direct image hasn't been through resample\n",
    "dpm.meta.resample.product_exposure_time = dpm.meta.exposure.exposure_time"
   ]
  },
  {
   "cell_type": "code",
   "execution_count": null,
   "metadata": {},
   "outputs": [],
   "source": [
    "# source catalog is using get_fits_wcs() and that barfs on the DrizProdModel if validation fails on VAR_POISSON and VAR_RNOISE\n",
    "# those don't exist are set to unloaded arrays in the model, so here  we'll set them.\n",
    "\n",
    "dpm.var_poisson = 0\n",
    "dpm.var_rnoise = 0"
   ]
  },
  {
   "cell_type": "code",
   "execution_count": null,
   "metadata": {},
   "outputs": [],
   "source": [
    "fits.info(directr_file)"
   ]
  },
  {
   "cell_type": "code",
   "execution_count": null,
   "metadata": {},
   "outputs": [],
   "source": [
    "sc.process(dpm)"
   ]
  },
  {
   "cell_type": "markdown",
   "metadata": {},
   "source": [
    "#### The above results should print out the name of the catalog that was created, my first run showed 2718 with the default parameters, we'll change that to get better detections below"
   ]
  },
  {
   "cell_type": "markdown",
   "metadata": {},
   "source": [
    "#### If you see a TypeError, it's most likely because your image hasn't been sent through resample so it's missing a WHT extension and some meta information. We can add one ourselves and continue. If not, you can skip the following cells."
   ]
  },
  {
   "cell_type": "code",
   "execution_count": null,
   "metadata": {},
   "outputs": [],
   "source": [
    "# execute to add WHT extension to dataset\n",
    "dirim = fits.open(directr_file, mode='update')\n",
    "\n",
    "WHT = False\n",
    "for extname in dirim:\n",
    "    if 'WHT' in extname.name:\n",
    "        WHT = True\n",
    "if not WHT:\n",
    "    wht_hdu = fits.ImageHDU()\n",
    "    wht_hdu.data = np.ones((2048, 2048), dtype=np.float32)\n",
    "    wht_hdu.data\n",
    "    wht_hdu.header['EXTNAME'] = 'WHT'\n",
    "    dirim.append(wht_hdu)\n",
    "else:\n",
    "    print(\"WHT extension already exists, no update\")\n",
    "    \n",
    "dirim.close()"
   ]
  },
  {
   "cell_type": "code",
   "execution_count": null,
   "metadata": {},
   "outputs": [],
   "source": [
    "fits.info(directr_file)"
   ]
  },
  {
   "cell_type": "markdown",
   "metadata": {},
   "source": [
    "#### Edit the defaults for source finding and run again to get a better detection sample\n"
   ]
  },
  {
   "cell_type": "code",
   "execution_count": null,
   "metadata": {},
   "outputs": [],
   "source": [
    "sc.npixels=50\n",
    "sc.snr_threshold=30\n",
    "sc.process(dpm)"
   ]
  },
  {
   "cell_type": "code",
   "execution_count": null,
   "metadata": {},
   "outputs": [],
   "source": [
    "skycoord_cat='step_SourceCatalogStep_cat.ecsv'  # this should be the name in the output listing above\n",
    "#skycoord_cat='V54321001002P000000000110d_A5_F444W_rate_cat.ecsv'\n",
    "catalog=QTable.read(skycoord_cat,  format='ascii.ecsv')\n",
    "catalog"
   ]
  },
  {
   "cell_type": "markdown",
   "metadata": {},
   "source": [
    "#### the `source_catalog` step returns the xcentroid and ycentroid in pixel values, let's plot those over our image to see how the detections look"
   ]
  },
  {
   "cell_type": "code",
   "execution_count": null,
   "metadata": {},
   "outputs": [],
   "source": [
    "dirim = fits.getdata(directr_file, ext=1)\n",
    "xs,ys=dirim.shape\n",
    "fig = plt.figure(figsize=(4,4), dpi=150)\n",
    "ax = fig.add_subplot(1, 1, 1)\n",
    "ax.ticklabel_format(useOffset=False)\n",
    "ax.ticklabel_format(useOffset=False)\n",
    "ax.set_title(directr_file.split(\"/\")[-1], fontsize=8)\n",
    "ax.imshow(dirim, origin='lower', extent=[0,xs,0,ys], vmin=-10, vmax=10)\n",
    "\n",
    "# rectangle patches are xmin, ymin, width, height\n",
    "plist1=[]\n",
    "for obj in catalog:\n",
    "    plist1.append(patches.Circle((obj['xcentroid'].value, obj['ycentroid'].value),4, color='red'))\n",
    "    ax.text(obj['xcentroid'].value, obj['ycentroid'].value, obj['id'], size=5)\n",
    "\n",
    "for p in plist1:\n",
    "    ax.add_patch(p)\n",
    "    \n",
    "ax.imshow(dirim, origin='lower', extent=[0,xs,0,ys], vmin=-10, vmax=10)\n",
    "print(\"Saved image to nircam_wfss_catalog_centers.jpg\")\n",
    "fig.savefig('nircam_wfss_catalog_centers.jpg')"
   ]
  },
  {
   "cell_type": "markdown",
   "metadata": {},
   "source": [
    "### source_catalog returns the minimal bounding boxes around each object in units of degrees:\n",
    "* sky_bbox_ll\n",
    "* sky_bbox_ul\n",
    "* sky_bbox_lr\n",
    "* sky_bbox_ur\n",
    "\n",
    "#### Let's translate those corners so that we can overplot our bounding boxes for each object\n",
    "**Caveat, as of the writing of this notebook, source_catalog hasn't been fully updated to use GWCS objects, so we are going to do the radec --> pixel translation using the fits wcs in the model "
   ]
  },
  {
   "cell_type": "code",
   "execution_count": null,
   "metadata": {},
   "outputs": [],
   "source": [
    "wcs = dpm.get_fits_wcs(hdu_name='SCI')"
   ]
  },
  {
   "cell_type": "code",
   "execution_count": null,
   "metadata": {},
   "outputs": [],
   "source": [
    "wcs.celestial"
   ]
  },
  {
   "cell_type": "markdown",
   "metadata": {},
   "source": [
    "### Use the astropy.wcs object to convert the bounding box corners for all objects to pixel locations"
   ]
  },
  {
   "cell_type": "code",
   "execution_count": null,
   "metadata": {},
   "outputs": [],
   "source": [
    "det_bbox_ll_x, det_bbox_ll_y  = skycoord_to_pixel(catalog['sky_bbox_ll'], wcs, origin=0)\n",
    "det_bbox_lr_x, det_bbox_lr_y  = skycoord_to_pixel(catalog['sky_bbox_lr'], wcs, origin=0)\n",
    "det_bbox_ul_x, det_bbox_ul_y  = skycoord_to_pixel(catalog['sky_bbox_ul'], wcs, origin=0)\n",
    "det_bbox_ur_x, det_bbox_ur_y  = skycoord_to_pixel(catalog['sky_bbox_ur'], wcs, origin=0)"
   ]
  },
  {
   "cell_type": "code",
   "execution_count": null,
   "metadata": {},
   "outputs": [],
   "source": [
    "catalog[18]"
   ]
  },
  {
   "cell_type": "markdown",
   "metadata": {},
   "source": [
    "### Plot up the minimal bounding boxes that were computed with the catalog for the direct image. The cross-dispersion size of the grism extraction boxes will be taken directly from these values. The `source_catalog` step is currently using the fits wcs to calculate the sky poisitions. The pipeline uses the GWCS object though."
   ]
  },
  {
   "cell_type": "code",
   "execution_count": null,
   "metadata": {},
   "outputs": [],
   "source": [
    "# display and save a jpeg copy of the results \n",
    "dispim=fits.getdata(grismr_file, ext=1)\n",
    "dirim=fits.getdata(directr_file, ext=1)\n",
    "ys,xs=dirim.data.shape\n",
    "fig2 = plt.figure(figsize=(8,8), dpi=150)\n",
    "ax1 = fig2.add_subplot(1, 2, 1)\n",
    "ax1.ticklabel_format(useOffset=False)\n",
    "ax1.set_title(directr_file.split(\"/\")[-1], fontsize=8)\n",
    "ax2 = fig2.add_subplot(1, 2, 2)\n",
    "ax2.set_title(grismr_file.split(\"/\")[-1], fontsize=8)\n",
    "\n",
    "# rectangle patches are xmin, ymin, width, height\n",
    "plist1=[]\n",
    "for xmin,ymin,xmax,ymax in zip(det_bbox_ll_x, det_bbox_ll_y, det_bbox_ur_x,det_bbox_ur_y):\n",
    "    plist1.append(patches.Rectangle((xmin, ymin), xmax - xmin, ymax - ymin, fill=False, color='red'))\n",
    "\n",
    "for p in plist1:\n",
    "    ax1.add_patch(p)\n",
    "    \n",
    "ax1.imshow(dirim, origin='lower', extent=[0,xs,0,ys], vmin=-10, vmax=10)\n",
    "ax2.imshow(dispim, origin='lower', extent=[0,xs,0,ys], vmin=-5, vmax=5)\n",
    "saveto = directr_file.split(\"/\")[-1].split(\".fits\")[0]+\"_boxes.jpg\"\n",
    "fig2.tight_layout()\n",
    "fig2.savefig(saveto, dpi=120, bbox_inches='tight')\n",
    "print(\"Saved jpeg file to: {}\".format(saveto))"
   ]
  },
  {
   "cell_type": "markdown",
   "metadata": {},
   "source": [
    "### Now we need to translate the minimum bounding boxes to the grism image\n",
    "We'll do this by going through part of the GWCS object for the dispersed image\n",
    "\n",
    "**Look at the nircam/Using-the-NIRCAM-WFSS-WCS-Object  notebook for explicit detail on the GWCS object, transforms and models for WFSS**\n",
    "\n",
    "*Since the grism image is using the GWCS object at all stages, here we could  create the GWCS object for the direct image and use that to translate the bounding box corners, and object centers, to RA,DEC locations on the sky.\n",
    "We would then use the GWCS object in the grism image to translate them back to detector pixel locations. The biggest difference here between the fits WCS and the GWCS is the trip through the distorion correction.* So there's errors in the location whether you do this through fits wcs or gwcs because the catalog is only using fits wcs right now."
   ]
  },
  {
   "cell_type": "code",
   "execution_count": null,
   "metadata": {},
   "outputs": [],
   "source": [
    "# Lets read the file into a datamodel and display some information\n",
    "grism_image = image.ImageModel(grismr_file)\n",
    "grism_image.meta.instrument.name, grism_image.meta.instrument.filter, grism_image.meta.instrument.pupil, grism_image.meta.instrument.detector,grism_image.meta.exposure.type"
   ]
  },
  {
   "cell_type": "markdown",
   "metadata": {},
   "source": [
    "### Take a look at what is in the wcsinfo structure"
   ]
  },
  {
   "cell_type": "code",
   "execution_count": null,
   "metadata": {},
   "outputs": [],
   "source": [
    "gim=grism_image\n",
    "gim.meta.wcsinfo.crval1, gim.meta.wcsinfo.crval2, gim.meta.wcsinfo.crpix1, gim.meta.wcsinfo.crpix2, gim.meta.wcsinfo.crpix3"
   ]
  },
  {
   "cell_type": "code",
   "execution_count": null,
   "metadata": {},
   "outputs": [],
   "source": [
    "gim.meta.wcsinfo.wcsaxes, gim.meta.wcsinfo.ra_ref, gim.meta.wcsinfo.dec_ref, gim.meta.wcsinfo.v2_ref, gim.meta.wcsinfo.v3_ref"
   ]
  },
  {
   "cell_type": "code",
   "execution_count": null,
   "metadata": {},
   "outputs": [],
   "source": [
    "gim.meta.wcsinfo.roll_ref, gim.meta.wcsinfo.cdelt1, gim.meta.wcsinfo.cdelt2, gim.meta.wcsinfo.cdelt3"
   ]
  },
  {
   "cell_type": "code",
   "execution_count": null,
   "metadata": {},
   "outputs": [],
   "source": [
    "gim.meta.wcsinfo.pc1_1, gim.meta.wcsinfo.pc1_2, gim.meta.wcsinfo.pc2_1, gim.meta.wcsinfo.pc2_2"
   ]
  },
  {
   "cell_type": "code",
   "execution_count": null,
   "metadata": {},
   "outputs": [],
   "source": [
    "junk=fits.open(grismr_file, mode='update')\n",
    "junk[0].header['exp_type'] = 'NRC_WFSS'\n",
    "junk.close()\n",
    "fits.getval(grismr_file,'EXP_TYPE')"
   ]
  },
  {
   "cell_type": "markdown",
   "metadata": {},
   "source": [
    "### The original file still had NRC_GRISM instead of NRC_WFSS for exposure.type, update if necessary"
   ]
  },
  {
   "cell_type": "code",
   "execution_count": null,
   "metadata": {},
   "outputs": [],
   "source": [
    "wcs_step = assign_wcs.AssignWcsStep()"
   ]
  },
  {
   "cell_type": "code",
   "execution_count": null,
   "metadata": {},
   "outputs": [],
   "source": [
    "grism_with_wcs = wcs_step(grism_image)"
   ]
  },
  {
   "cell_type": "code",
   "execution_count": null,
   "metadata": {},
   "outputs": [],
   "source": [
    "grism_with_wcs.meta.wcs.available_frames  # this is where the WCS lives, available frames gives you the transforms that are available"
   ]
  },
  {
   "cell_type": "markdown",
   "metadata": {},
   "source": [
    "#### What does the GWCS wcs information look like?"
   ]
  },
  {
   "cell_type": "code",
   "execution_count": null,
   "metadata": {},
   "outputs": [],
   "source": [
    "grism_with_wcs.meta.wcs"
   ]
  },
  {
   "cell_type": "markdown",
   "metadata": {},
   "source": [
    "#### This is what the FITS wcs information looks like for the grism image:"
   ]
  },
  {
   "cell_type": "code",
   "execution_count": null,
   "metadata": {},
   "outputs": [],
   "source": [
    "grism_fits_wcs = grism_image.get_fits_wcs()\n",
    "grism_fits_wcs"
   ]
  },
  {
   "cell_type": "code",
   "execution_count": null,
   "metadata": {},
   "outputs": [],
   "source": [
    "# compare with the wcsinfo in the datamodel\n",
    "grism_with_wcs.meta.wcsinfo.crval1, grism_with_wcs.meta.wcsinfo.crval2, grism_with_wcs.meta.wcsinfo.crpix1, grism_with_wcs.meta.wcsinfo.crpix2"
   ]
  },
  {
   "cell_type": "markdown",
   "metadata": {},
   "source": [
    "### Assuming that the grism image we are working with has the correct meta information about it's pointing, we can use the RA,DEC coordinates of the corners of the boxes to translate to a respective \"direct image\" that might have been taken at the same location as the grism image pointing."
   ]
  },
  {
   "cell_type": "code",
   "execution_count": null,
   "metadata": {},
   "outputs": [],
   "source": [
    "catalog[18]"
   ]
  },
  {
   "cell_type": "code",
   "execution_count": null,
   "metadata": {},
   "outputs": [],
   "source": [
    "# Translated locations to effective grism image \"direct image\" using the FITS wcs information\n",
    "gdet_bbox_ll_x, gdet_bbox_ll_y  = skycoord_to_pixel(catalog['sky_bbox_ll'], grism_fits_wcs, origin=0)\n",
    "gdet_bbox_lr_x, gdet_bbox_lr_y  = skycoord_to_pixel(catalog['sky_bbox_lr'], grism_fits_wcs, origin=0)\n",
    "gdet_bbox_ul_x, gdet_bbox_ul_y  = skycoord_to_pixel(catalog['sky_bbox_ul'], grism_fits_wcs, origin=0)\n",
    "gdet_bbox_ur_x, gdet_bbox_ur_y  = skycoord_to_pixel(catalog['sky_bbox_ur'], grism_fits_wcs, origin=0)\n",
    "xcenter,ycenter = skycoord_to_pixel(catalog['sky_centroid'], grism_fits_wcs, origin=0)"
   ]
  },
  {
   "cell_type": "markdown",
   "metadata": {},
   "source": [
    "### Visual display of what the translation from object locations on our direct image to object locations on our grism \"direct image\"\n",
    "The boxes in the grism image are at the location of the obect in the catalog, but at the pointing of the grism image so they should show the dither offset\n",
    "The blue dots on the grism image mark the object center, just as translated by the fits_wcs, not the full trace size. See https://jwst-docs.stsci.edu/display/JTI/NIRCam+Grisms figure 3 for the example of how the source position relates to the trace location."
   ]
  },
  {
   "cell_type": "code",
   "execution_count": null,
   "metadata": {},
   "outputs": [],
   "source": [
    "# display and save a jpeg copy of the results \n",
    "dispim=fits.getdata(grismr_file, ext=1)\n",
    "dirim=fits.getdata(directr_file, ext=1)\n",
    "ys,xs=dirim.data.shape\n",
    "fig2 = plt.figure(figsize=(8,8), dpi=150)\n",
    "ax1 = fig2.add_subplot(1, 2, 1)\n",
    "ax1.ticklabel_format(useOffset=False)\n",
    "ax1.set_title(directr_file.split(\"/\")[-1], fontsize=8)\n",
    "ax2 = fig2.add_subplot(1, 2, 2)\n",
    "ax2.set_title(grismr_file.split(\"/\")[-1], fontsize=8)\n",
    "\n",
    "# rectangle patches are xmin, ymin, width, height\n",
    "plist1=[]\n",
    "for xmin,ymin,xmax,ymax,xc,yc in zip(gdet_bbox_ll_x, gdet_bbox_ll_y, gdet_bbox_ur_x, gdet_bbox_ur_y,xcenter,ycenter):\n",
    "    plist1.append(patches.Rectangle((xmin, ymin), xmax - xmin, ymax - ymin, fill=False, color='red'))\n",
    "    plist1.append(patches.Circle((xc, yc),4, color='blue'))\n",
    "\n",
    "for p in plist1:\n",
    "    ax2.add_patch(p)\n",
    "    \n",
    "plist1=[]\n",
    "for xmin,ymin,xmax,ymax in zip(det_bbox_ll_x, det_bbox_ll_y, det_bbox_ur_x,det_bbox_ur_y):\n",
    "    plist1.append(patches.Rectangle((xmin, ymin), xmax - xmin, ymax - ymin, fill=False, color='red'))\n",
    "    plist1.append(patches.Circle((xmin, ymin),4, color='blue'))\n",
    "\n",
    "for p in plist1:\n",
    "    ax1.add_patch(p)\n",
    "    \n",
    "    \n",
    "ax1.imshow(dirim, origin='lower', extent=[0,xs,0,ys], vmin=-10, vmax=10)\n",
    "ax2.imshow(dispim, origin='lower', extent=[0,xs,0,ys], vmin=-5, vmax=5)\n",
    "saveto = grismr_file.split(\"/\")[-1].split(\".fits\")[0]+\"_F444w.jpg\"\n",
    "fig2.tight_layout()\n",
    "fig2.savefig(saveto, dpi=120, bbox_inches='tight')\n",
    "print(\"Saved jpeg file to: {}\".format(saveto))"
   ]
  },
  {
   "cell_type": "markdown",
   "metadata": {},
   "source": [
    "### Now that we have the pixel locations from our fake direct image, we'll use  the transform from 'detector' to 'grism_detector' to translate the bounding box corner locations to the grism image itself"
   ]
  },
  {
   "cell_type": "markdown",
   "metadata": {},
   "source": [
    "#### We are also going to need to use the `wavelengthrange` reference file\n",
    "This tells us what the min and max wavelengths are for each spectral order and we'll use it to set the size of our extraction box in the dispersed image"
   ]
  },
  {
   "cell_type": "markdown",
   "metadata": {},
   "source": [
    "#### Ask CRDS for the name of the wavelengthrange reference file that goes with this image\n",
    "I'm doing this the long way as an example of how to do it by hand for any file.\n",
    "\n",
    "How did I know how to populate the header information? Look at the rmaps in CRDS to see what its selecting against for your reference file. For NIRCAM wavelengthrange look here: https://jwst-crds.stsci.edu/browse/jwst_nircam_wavelengthrange_0008.rmap"
   ]
  },
  {
   "cell_type": "code",
   "execution_count": null,
   "metadata": {},
   "outputs": [],
   "source": [
    "import crds\n",
    "from crds import client\n",
    "jwst_context = client.get_default_context('jwst')\n",
    "header = {\"meta.instrument.name\": grism_with_wcs.meta.instrument.name,\n",
    "          \"meta.instrument.module\": grism_with_wcs.meta.instrument.module,\n",
    "          \"meta.exposure.type\": grism_with_wcs.meta.exposure.type,\n",
    "          \"meta.observation.date\": grism_with_wcs.meta.observation.date,\n",
    "          \"meta.observation.time\": grism_with_wcs.meta.observation.time,\n",
    "         }\n",
    "wavelengthrange = client.get_best_references(jwst_context, header, [\"wavelengthrange\"])\n",
    "wavelengthrange"
   ]
  },
  {
   "cell_type": "markdown",
   "metadata": {},
   "source": [
    "#### If you wanted to get a list of all the reference files that were needed by a particular jwst pipeline step, you could do this:\n"
   ]
  },
  {
   "cell_type": "code",
   "execution_count": null,
   "metadata": {},
   "outputs": [],
   "source": [
    "from jwst.extract_2d.extract_2d_step import Extract2dStep\n",
    "e2d = Extract2dStep()\n",
    "ref_types = e2d.reference_file_types\n",
    "ref_types"
   ]
  },
  {
   "cell_type": "code",
   "execution_count": null,
   "metadata": {},
   "outputs": [],
   "source": [
    "reference_file_names = {}\n",
    "for name in ref_types:\n",
    "    reffile = e2d.get_reference_file(grism_with_wcs, name)\n",
    "    reference_file_names[name] = reffile if reffile else \"\"\n",
    "reference_file_names"
   ]
  },
  {
   "cell_type": "markdown",
   "metadata": {},
   "source": [
    "**No file should have been returned for wavecorr because it's not currently used in this mode**\n",
    "\n",
    "#### The cell below opens the Wavelengthrange refrence selected for use with our image"
   ]
  },
  {
   "cell_type": "code",
   "execution_count": null,
   "metadata": {},
   "outputs": [],
   "source": [
    "with WavelengthrangeModel(reference_file_names['wavelengthrange']) as f:\n",
    "        wavelengthrange = f.wavelengthrange\n",
    "        waverange_selector = f.waverange_selector\n",
    "        order = f.order\n",
    "f.instance  # show everything in the file"
   ]
  },
  {
   "cell_type": "markdown",
   "metadata": {},
   "source": [
    "#### The wavelength ranges are contained in the `wavelengthrange` data member, which is a list of (order, filter, wave min, wave max)\n",
    "The range can be selected using just the wavelengthrange member, in the most recent reference file, the `waverange_selector` and `order` members represent lists of the available for easy reference\n"
   ]
  },
  {
   "cell_type": "code",
   "execution_count": null,
   "metadata": {},
   "outputs": [],
   "source": [
    "print(\"wavelengthrange: {}\\n\\nwaverange_selector: {}\\n\\norder: {}\".format(wavelengthrange, waverange_selector, order))"
   ]
  },
  {
   "cell_type": "markdown",
   "metadata": {},
   "source": [
    "#### Find the wavelength ranges to use with the filter we have for the order we specify, make sure they are correct"
   ]
  },
  {
   "cell_type": "code",
   "execution_count": null,
   "metadata": {},
   "outputs": [],
   "source": [
    "order = 1\n",
    "range_select = [(x[2], x[3]) for x in wavelengthrange if (x[0] == order and x[1] == grism_image.meta.instrument.filter)]\n",
    "lmin, lmax = range_select.pop()\n",
    "print(\"Order: {}\\nFilter: {}\\nWav min: {}\\nWav max: {}\\n\".format(order, grism_image.meta.instrument.filter, lmin, lmax))"
   ]
  },
  {
   "cell_type": "markdown",
   "metadata": {},
   "source": [
    "#### Moving on, let's make boxes for each dispersed spectral object using the corner locations and the wavelengths\n",
    "SkyObject below is used by the WFSS methods to track grism objects from the catalog, we can display the parts of the catalog it cares about:"
   ]
  },
  {
   "cell_type": "code",
   "execution_count": null,
   "metadata": {},
   "outputs": [],
   "source": [
    "from jwst.lib.catalog_utils import SkyObject\n",
    "required_fields = list(SkyObject()._fields)\n",
    "print(required_fields)"
   ]
  },
  {
   "cell_type": "markdown",
   "metadata": {},
   "source": [
    "#### Get the information we need from the catalog"
   ]
  },
  {
   "cell_type": "code",
   "execution_count": null,
   "metadata": {},
   "outputs": [],
   "source": [
    "from jwst.assign_wcs import util\n",
    "grism_objects = util.get_object_info(skycoord_cat)"
   ]
  },
  {
   "cell_type": "code",
   "execution_count": null,
   "metadata": {},
   "outputs": [],
   "source": [
    "grism_objects[18]"
   ]
  },
  {
   "cell_type": "markdown",
   "metadata": {},
   "source": [
    "#### We're going to do this example for just the FIRST SPECTRAL ORDER\n",
    "Also, remember that `wcs` is the FITS wcs object that we created from the direct image"
   ]
  },
  {
   "cell_type": "markdown",
   "metadata": {},
   "source": [
    "#### Translated locations to effective grism image \"direct image\"\n",
    "    gdet_bbox_ll_x, gdet_bbox_ll_y  = skycoord_to_pixel(catalog['sky_bbox_ll'], grism_fits_wcs, origin=0)\n",
    "    gdet_bbox_lr_x, gdet_bbox_lr_y  = skycoord_to_pixel(catalog['sky_bbox_lr'], grism_fits_wcs, origin=0)\n",
    "    gdet_bbox_ul_x, gdet_bbox_ul_y  = skycoord_to_pixel(catalog['sky_bbox_ul'], grism_fits_wcs, origin=0)\n",
    "    gdet_bbox_ur_x, gdet_bbox_ur_y  = skycoord_to_pixel(catalog['sky_bbox_ur'], grism_fits_wcs, origin=0)"
   ]
  },
  {
   "cell_type": "markdown",
   "metadata": {},
   "source": [
    "## Replace the NaN values for abmag with something that will pass the code for now"
   ]
  },
  {
   "cell_type": "code",
   "execution_count": null,
   "metadata": {},
   "outputs": [],
   "source": [
    "tempcat=QTable.read(skycoord_cat,  format='ascii.ecsv')\n",
    "tempcat[\"abmag\"][:] = 18.\n",
    "tempcat.write(skycoord_cat, overwrite=True)"
   ]
  },
  {
   "cell_type": "code",
   "execution_count": null,
   "metadata": {},
   "outputs": [],
   "source": [
    "tempcat[:][18]"
   ]
  },
  {
   "cell_type": "markdown",
   "metadata": {},
   "source": [
    "### I've added the `use_fits_wcs` parameter here to make pipeline testing easier until `source_catalog` uses the gwcs object for location translation"
   ]
  },
  {
   "cell_type": "code",
   "execution_count": null,
   "metadata": {},
   "outputs": [],
   "source": [
    "reference_file_names['wavelengthrange'] = 'nircam_wfss_wavelengthrange.asdf'  # use our new file\n",
    "grism_with_wcs.meta.source_catalog.filename= skycoord_cat  # assign the catalog we made to the image\n",
    "test_boxes=assign_wcs.util.create_grism_bbox(grism_with_wcs, reference_file_names, use_fits_wcs=True)"
   ]
  },
  {
   "cell_type": "markdown",
   "metadata": {},
   "source": [
    "### Take a look at one of the brighter objects (catalog #19)\n"
   ]
  },
  {
   "cell_type": "code",
   "execution_count": null,
   "metadata": {},
   "outputs": [],
   "source": [
    "test_boxes[18]"
   ]
  },
  {
   "cell_type": "code",
   "execution_count": null,
   "metadata": {},
   "outputs": [],
   "source": [
    "test_boxes[-1]"
   ]
  },
  {
   "cell_type": "code",
   "execution_count": null,
   "metadata": {},
   "outputs": [],
   "source": [
    "for source in test_boxes:\n",
    "    try:\n",
    "        bounding = source.order_bounding[2]\n",
    "        ymin,ymax = bounding[0]\n",
    "        xmin,xmax = bounding[1]\n",
    "        print(\"Found: {}\\t{}\".format(source.sid, source.order_bounding))\n",
    "    except:\n",
    "        pass"
   ]
  },
  {
   "cell_type": "code",
   "execution_count": null,
   "metadata": {},
   "outputs": [],
   "source": [
    "### Verify that the centroid of the object got calculated correctly \n",
    "x,y = skycoord_to_pixel(catalog[18]['sky_centroid'], grism_fits_wcs, origin=0)\n",
    "print(x,y)"
   ]
  },
  {
   "cell_type": "markdown",
   "metadata": {},
   "source": [
    "### Visual verification of order bounding in the grism image"
   ]
  },
  {
   "cell_type": "code",
   "execution_count": null,
   "metadata": {},
   "outputs": [],
   "source": [
    "# visualize the images with some bounding boxes\n",
    "ys,xs = dirim.shape  # assuming both are the same shape\n",
    "fig2 = plt.figure(figsize=(8,8), dpi=150)\n",
    "\n",
    "# Plot the direct image\n",
    "ax1 = fig2.add_subplot(1, 2, 1)\n",
    "ax1.ticklabel_format(useOffset=False)\n",
    "ax1.set_title(directr_file.split(\"/\")[-1], fontsize=8)\n",
    "\n",
    "# Plot the grism image\n",
    "ax2 = fig2.add_subplot(1, 2, 2)\n",
    "ax1.ticklabel_format(useOffset=False)\n",
    "ax2.set_title(grismr_file.split(\"/\")[-1], fontsize=8)\n",
    "\n",
    "# rectangle patches are xmin, ymin, width, height\n",
    "order=1\n",
    "tt = [test_boxes[18], test_boxes[12], test_boxes[8]]\n",
    "for obj in tt:\n",
    "    try:\n",
    "        y,x  = obj.order_bounding[order]\n",
    "        ymin, ymax = y\n",
    "        xmin, xmax = x\n",
    "        xcenter, ycenter = obj.xcentroid, obj.ycentroid\n",
    "        ax2.add_patch(patches.Rectangle((xmin, ymin),\n",
    "                                     xmax - xmin,\n",
    "                                     ymax - ymin,\n",
    "                                     fill=False, color='red'))\n",
    "        ax2.add_patch(patches.Circle((xcenter, ycenter), 10, color='blue'))\n",
    "    except KeyError:\n",
    "        pass\n",
    "\n",
    "ax1.imshow(dirim, origin='lower', extent=[0,xs,0,ys], vmin=-10, vmax=10)\n",
    "ax2.imshow(dispim, origin='lower', extent=[0,xs,0,ys], vmin=-10, vmax=10)\n",
    "fig2.tight_layout()\n",
    "figname = grismr_file.split(\"/\")[-1]+'_order_bounding.jpg'\n",
    "fig2.savefig(figname, dpi=120, bbox_inches='tight')\n",
    "print(\"Saved figure to {}\".format(figname))"
   ]
  },
  {
   "cell_type": "markdown",
   "metadata": {},
   "source": [
    "## The boxes are off a bit? The source location and boxes that were drawn are where the code expects traces to fall for F444W, but the image pixel data looks more like F335M\n",
    "What if we translate the boxes assuming that the filter *was* F335M"
   ]
  },
  {
   "cell_type": "code",
   "execution_count": null,
   "metadata": {},
   "outputs": [],
   "source": [
    "grismr_335m_file = nircam_data+\"V54321001002P0000000001101_A5_F444W_FinalDispersedRamp_row_rate_f335m.fits\""
   ]
  },
  {
   "cell_type": "code",
   "execution_count": null,
   "metadata": {},
   "outputs": [],
   "source": [
    "# Lets read the file into a datamodel and display some information\n",
    "grism_image = image.ImageModel(grismr_335m_file)\n",
    "grism_image.meta.instrument.name, grism_image.meta.instrument.filter, grism_image.meta.instrument.pupil, grism_image.meta.instrument.detector,grism_image.meta.exposure.type"
   ]
  },
  {
   "cell_type": "code",
   "execution_count": null,
   "metadata": {},
   "outputs": [],
   "source": [
    "wcs_step = assign_wcs.AssignWcsStep()"
   ]
  },
  {
   "cell_type": "code",
   "execution_count": null,
   "metadata": {},
   "outputs": [],
   "source": [
    "grism_with_wcs = wcs_step(grism_image)"
   ]
  },
  {
   "cell_type": "code",
   "execution_count": null,
   "metadata": {},
   "outputs": [],
   "source": [
    "skycoord_cat='step_SourceCatalogStep_cat.ecsv'  # this should be the name in the output listing above\n",
    "catalog=QTable.read(skycoord_cat,  format='ascii.ecsv')\n",
    "catalog"
   ]
  },
  {
   "cell_type": "markdown",
   "metadata": {},
   "source": [
    "#### the `source_catalog` step returns the xcentroid and ycentroid in pixel values, let's plot those over our image to see how the detections look"
   ]
  },
  {
   "cell_type": "code",
   "execution_count": null,
   "metadata": {},
   "outputs": [],
   "source": [
    "dirim = fits.getdata(directr_file, ext=1)\n",
    "xs,ys=dirim.shape\n",
    "fig = plt.figure(figsize=(4,4), dpi=150)\n",
    "ax = fig.add_subplot(1, 1, 1)\n",
    "ax.ticklabel_format(useOffset=False)\n",
    "ax.set_title(directr_file.split(\"/\")[-1], fontsize=8)\n",
    "ax.imshow(dirim, origin='lower', extent=[0,xs,0,ys], vmin=-10, vmax=10)\n",
    "\n",
    "# rectangle patches are xmin, ymin, width, height\n",
    "plist1=[]\n",
    "for obj in catalog:\n",
    "    plist1.append(patches.Circle((obj['xcentroid'].value, obj['ycentroid'].value),4, color='red'))\n",
    "    ax.text(obj['xcentroid'].value, obj['ycentroid'].value, obj['id'], size=5)\n",
    "\n",
    "for p in plist1:\n",
    "    ax.add_patch(p)\n",
    "    \n",
    "ax.imshow(dirim, origin='lower', extent=[0,xs,0,ys], vmin=-10, vmax=10)\n",
    "fig.savefig('nircam_wfss_centers_f335m.jpg')"
   ]
  },
  {
   "cell_type": "code",
   "execution_count": null,
   "metadata": {},
   "outputs": [],
   "source": [
    "grism_fits_wcs = grism_with_wcs.get_fits_wcs()\n",
    "grism_fits_wcs"
   ]
  },
  {
   "cell_type": "code",
   "execution_count": null,
   "metadata": {},
   "outputs": [],
   "source": [
    "# compare with the wcsinfo in the datamodel\n",
    "grism_with_wcs.meta.wcsinfo.crval1, grism_with_wcs.meta.wcsinfo.crval2, grism_with_wcs.meta.wcsinfo.crpix1, grism_with_wcs.meta.wcsinfo.crpix2"
   ]
  },
  {
   "cell_type": "markdown",
   "metadata": {},
   "source": [
    "### Assuming that the grism image we are working with has the correct meta information about it's pointing, we can use the RA,DEC coordinates of the corners of the boxes to translate to a respective \"direct image\" that might have been taken at the same location as the grism image pointing."
   ]
  },
  {
   "cell_type": "code",
   "execution_count": null,
   "metadata": {},
   "outputs": [],
   "source": [
    "# Translated locations to effective grism image \"direct image\" using the FITS wcs information\n",
    "gdet_bbox_ll_x, gdet_bbox_ll_y  = skycoord_to_pixel(catalog['sky_bbox_ll'], grism_fits_wcs, origin=0)\n",
    "gdet_bbox_lr_x, gdet_bbox_lr_y  = skycoord_to_pixel(catalog['sky_bbox_lr'], grism_fits_wcs, origin=0)\n",
    "gdet_bbox_ul_x, gdet_bbox_ul_y  = skycoord_to_pixel(catalog['sky_bbox_ul'], grism_fits_wcs, origin=0)\n",
    "gdet_bbox_ur_x, gdet_bbox_ur_y  = skycoord_to_pixel(catalog['sky_bbox_ur'], grism_fits_wcs, origin=0)\n",
    "xcenter,ycenter = skycoord_to_pixel(catalog['sky_centroid'], grism_fits_wcs, origin=0)"
   ]
  },
  {
   "cell_type": "markdown",
   "metadata": {},
   "source": [
    "### Visual display of what the translation from object locations on our direct image to object locations on our grism \"direct image\"\n",
    "The boxes in the grism image are at the location of the obect in the catalog, but at the pointing of the grism image so they should show the dither offset\n",
    "The blue dots on the grism image mark the object center, just as translated by the fits_wcs, not the full trace size. See https://jwst-docs.stsci.edu/display/JTI/NIRCam+Grisms figure 3 for the example of how the source position relates to the trace location."
   ]
  },
  {
   "cell_type": "code",
   "execution_count": null,
   "metadata": {},
   "outputs": [],
   "source": [
    "# display and save a jpeg copy of the results \n",
    "dispim=fits.getdata(grismr_file, ext=1)\n",
    "dirim=fits.getdata(directr_file, ext=1)\n",
    "ys,xs=dirim.data.shape\n",
    "fig2 = plt.figure(figsize=(8,8), dpi=150)\n",
    "ax1 = fig2.add_subplot(1, 2, 1)\n",
    "ax1.ticklabel_format(useOffset=False)\n",
    "ax1.set_title(directr_file.split(\"/\")[-1], fontsize=8)\n",
    "ax2 = fig2.add_subplot(1, 2, 2)\n",
    "ax2.set_title(grismr_file.split(\"/\")[-1], fontsize=8)\n",
    "\n",
    "# rectangle patches are xmin, ymin, width, height\n",
    "plist1=[]\n",
    "for xmin,ymin,xmax,ymax,xc,yc in zip(gdet_bbox_ll_x, gdet_bbox_ll_y, gdet_bbox_ur_x, gdet_bbox_ur_y,xcenter,ycenter):\n",
    "    plist1.append(patches.Rectangle((xmin, ymin), xmax - xmin, ymax - ymin, fill=False, color='red'))\n",
    "    plist1.append(patches.Circle((xc, yc),4, color='blue'))\n",
    "\n",
    "for p in plist1:\n",
    "    ax2.add_patch(p)\n",
    "    \n",
    "plist1=[]\n",
    "for xmin,ymin,xmax,ymax in zip(gdet_bbox_ll_x, gdet_bbox_ll_y, gdet_bbox_ur_x, gdet_bbox_ur_y):\n",
    "    plist1.append(patches.Rectangle((xmin, ymin), xmax - xmin, ymax - ymin, fill=False, color='red'))\n",
    "    plist1.append(patches.Circle((xmin, ymin),4, color='blue'))\n",
    "\n",
    "for p in plist1:\n",
    "    ax1.add_patch(p)\n",
    "    \n",
    "    \n",
    "ax1.imshow(dirim, origin='lower', extent=[0,xs,0,ys], vmin=-10, vmax=10)\n",
    "ax2.imshow(dispim, origin='lower', extent=[0,xs,0,ys], vmin=-5, vmax=5)\n",
    "saveto = grismr_file.split(\"/\")[-1].split(\".fits\")[0]+\"_f335m.jpg\"\n",
    "fig2.tight_layout()\n",
    "fig2.savefig(saveto, dpi=120, bbox_inches='tight')\n",
    "print(\"Saved jpeg file to: {}\".format(saveto))"
   ]
  },
  {
   "cell_type": "code",
   "execution_count": null,
   "metadata": {},
   "outputs": [],
   "source": [
    "from jwst import assign_wcs\n",
    "from jwst.extract_2d.extract_2d_step import Extract2dStep\n",
    "e2d = Extract2dStep()\n",
    "ref_types = e2d.reference_file_types\n",
    "ref_types\n",
    "\n",
    "reference_file_names = {}\n",
    "for name in ref_types:\n",
    "    reffile = e2d.get_reference_file(grism_with_wcs, name)\n",
    "    reference_file_names[name] = reffile if reffile else \"\"\n",
    "reference_file_names\n",
    "\n",
    "reference_file_names['wavelengthrange'] = 'nircam_wfss_wavelengthrange.asdf'  # use our new file\n",
    "grism_with_wcs.meta.source_catalog.filename=skycoord_cat  # assign the catalog we made to the image\n",
    "test_boxes=assign_wcs.util.create_grism_bbox(grism_with_wcs, reference_file_names, use_fits_wcs=True)"
   ]
  },
  {
   "cell_type": "markdown",
   "metadata": {},
   "source": [
    "### Visual verification of order bounding in the grism image"
   ]
  },
  {
   "cell_type": "code",
   "execution_count": null,
   "metadata": {},
   "outputs": [],
   "source": [
    "# visualize the images with some bounding boxes\n",
    "ys,xs = dirim.shape  # assuming both are the same shape\n",
    "fig2 = plt.figure(figsize=(8,8), dpi=150)\n",
    "\n",
    "# Plot the direct image\n",
    "ax1 = fig2.add_subplot(1, 2, 1)\n",
    "ax1.ticklabel_format(useOffset=False)\n",
    "ax1.set_title(directr_file.split(\"/\")[-1], fontsize=8)\n",
    "\n",
    "# Plot the grism image\n",
    "ax2 = fig2.add_subplot(1, 2, 2)\n",
    "ax1.ticklabel_format(useOffset=False)\n",
    "ax2.set_title(grismr_file.split(\"/\")[-1], fontsize=8)\n",
    "\n",
    "# rectangle patches are xmin, ymin, width, height\n",
    "order=1\n",
    "tt = [test_boxes[18], test_boxes[12], test_boxes[8]]\n",
    "for obj in tt:\n",
    "    try:\n",
    "        y,x  = obj.order_bounding[order]\n",
    "        ymin, ymax = y\n",
    "        xmin, xmax = x\n",
    "        xcenter, ycenter = obj.xcentroid, obj.ycentroid\n",
    "        ax2.add_patch(patches.Rectangle((xmin, ymin),\n",
    "                                     xmax - xmin,\n",
    "                                     ymax - ymin,\n",
    "                                     fill=False, color='red'))\n",
    "        ax2.add_patch(patches.Circle((xcenter, ycenter), 10, color='blue'))\n",
    "    except KeyError:\n",
    "        pass\n",
    "\n",
    "ax1.imshow(dirim, origin='lower', extent=[0,xs,0,ys], vmin=-10, vmax=10)\n",
    "ax2.imshow(dispim, origin='lower', extent=[0,xs,0,ys], vmin=-10, vmax=10)\n",
    "fig2.tight_layout()\n",
    "figname = grismr_file.split(\"/\")[-1]+'_order_bounding_f335m.jpg'\n",
    "fig2.savefig(figname, dpi=120, bbox_inches='tight')\n",
    "print(\"Saved figure to {}\".format(figname))"
   ]
  },
  {
   "cell_type": "markdown",
   "metadata": {},
   "source": [
    "    [1, 'F335M', 3.01459734, 4.260432726]\n",
    "    [1, 'F444W', 3.696969216, 4.899565197]\n",
    "    \n",
    "\n",
    "### If I continue on, let's just make sure that the order is extracted in the correct location for F335M"
   ]
  },
  {
   "cell_type": "code",
   "execution_count": null,
   "metadata": {},
   "outputs": [],
   "source": [
    "from jwst.extract_2d import extract_2d_step, extract_2d\n",
    "step=extract_2d_step.Extract2dStep()\n",
    "reference_file_names = {'camera': 'N/A',\n",
    " 'collimator': 'N/A',\n",
    " 'disperser': 'N/A',\n",
    " 'distortion': step.get_reference_file(grism_with_wcs,'distortion'),\n",
    " 'filteroffset': 'N/A',\n",
    " 'fore': 'N/A',\n",
    " 'fpa': 'N/A',\n",
    " 'ifufore': 'N/A',\n",
    " 'ifupost': 'N/A',\n",
    " 'ifuslicer': 'N/A',\n",
    " 'msa': 'N/A',\n",
    " 'ote': 'N/A',\n",
    " 'regions': 'N/A',\n",
    " 'specwcs':  step.get_reference_file(grism_with_wcs,'specwcs'),\n",
    " 'v2v3': 'N/A',\n",
    " 'wavelengthrange': step.get_reference_file(grism_with_wcs, 'wavelengthrange')}"
   ]
  },
  {
   "cell_type": "code",
   "execution_count": null,
   "metadata": {},
   "outputs": [],
   "source": [
    "reference_file_names['wavelengthrange'] = 'nircam_wfss_wavelengthrange.asdf'  # use our new file"
   ]
  },
  {
   "cell_type": "code",
   "execution_count": null,
   "metadata": {},
   "outputs": [],
   "source": [
    "x2d = extract_2d.extract_grism_objects(grism_with_wcs, reference_files=reference_file_names, mmag_extract=99., use_fits_wcs=True)"
   ]
  },
  {
   "cell_type": "code",
   "execution_count": null,
   "metadata": {},
   "outputs": [],
   "source": [
    "len(x2d.slits)"
   ]
  },
  {
   "cell_type": "code",
   "execution_count": null,
   "metadata": {},
   "outputs": [],
   "source": [
    "x2d.write('nircam_extract_2d_wfss_slits_f335M.fits')\n",
    "!ls -altr *.fits"
   ]
  },
  {
   "cell_type": "code",
   "execution_count": null,
   "metadata": {},
   "outputs": [],
   "source": [
    "dispim=fits.getdata(grismr_file)\n",
    "dirim=fits.getdata(directr_file)\n",
    "ys,xs=dirim.data.shape\n",
    "\n",
    "fig = plt.figure(figsize=(10,10), dpi=150)\n",
    "ax3 = fig.add_subplot(1, 2, 1)\n",
    "ax3.set_title(directr_file.split(\"/\")[-1], fontsize=8)\n",
    "ax3.imshow(dirim, origin='lower', extent=[0,xs,0,ys], vmin=-3, vmax=3)\n",
    "ax2 = fig.add_subplot(1, 2, 2)\n",
    "ax2.set_title(grismr_file.split(\"/\")[-1], fontsize=8)\n",
    "ax2.imshow(dispim, origin='lower', extent=[0,xs,0,ys], vmin=-3, vmax=3)\n",
    "fig.tight_layout()\n",
    "\n",
    "\n",
    "# rectangle patches are xmin, ymin, width, height\n",
    "plist1=[]\n",
    "for obj in catalog:\n",
    "    plist1.append(patches.Circle((obj['xcentroid'].value, obj['ycentroid'].value),4, color='red'))\n",
    "    ax3.text(obj['xcentroid'].value, obj['ycentroid'].value, obj['id'], size=5)\n",
    "\n",
    "for p in plist1:\n",
    "    ax3.add_patch(p)\n",
    "ax3.imshow(dirim, origin='lower', extent=[0,xs,0,ys], vmin=-3, vmax=3)"
   ]
  },
  {
   "cell_type": "code",
   "execution_count": null,
   "metadata": {},
   "outputs": [],
   "source": [
    "fig = plt.figure(figsize=(8,6), dpi=150)\n",
    "\n",
    "ss=30\n",
    "ys, xs = x2d.slits[ss].data.shape\n",
    "ax = fig.add_subplot(3, 1, 1)\n",
    "#xpos, ypos = x2d.slits[ss].source_xpos, x2d.slits[ss].source_ypos\n",
    "#title = x2d.meta.instrument.filter+\" order {0}\\nx={1} y={2}\".format(x2d.meta.wcsinfo.spectral_order,\n",
    "#                                                                    xpos,\n",
    "#                                                                    ypos)\n",
    "title = \"object {} order = {}\".format(x2d.slits[ss].source_id, x2d.slits[ss].meta.wcsinfo.spectral_order)\n",
    "ax.set_title(title, fontsize=8)\n",
    "ax.imshow(x2d.slits[ss].data, origin='lower', extent=[0,xs,0,ys], vmin=-3, vmax=3)\n",
    "\n",
    "ss=14\n",
    "ys, xs = x2d.slits[ss].data.shape\n",
    "ax4 = fig.add_subplot(3, 1, 2)\n",
    "#xpos, ypos = x2d.slits[ss].source_xpos, x2d.slits[ss].source_ypos\n",
    "#title = x2d.meta.instrument.filter+\" order {0}\\nx={1} y={2}\".format(x2d.meta.wcsinfo.spectral_order,\n",
    "#                                                                    xpos,\n",
    "#                                                                    ypos)\n",
    "title = \"object {} order = {}\".format(x2d.slits[ss].source_id, x2d.slits[ss].meta.wcsinfo.spectral_order)\n",
    "ax4.set_title(title, fontsize=8)\n",
    "ax4.imshow(x2d.slits[ss].data, origin='lower', extent=[0,xs,0,ys], vmin=-3, vmax=3)\n",
    "figname = grismr_file.split(\"/\")[-1]+'_order_extracted_f335m.jpg'\n",
    "print(\"Saved image to {}\".format(figname))\n",
    "fig2.savefig(figname, dpi=120, bbox_inches='tight')"
   ]
  },
  {
   "cell_type": "code",
   "execution_count": null,
   "metadata": {},
   "outputs": [],
   "source": [
    "x2d.slits[30].source_id"
   ]
  },
  {
   "cell_type": "code",
   "execution_count": null,
   "metadata": {},
   "outputs": [],
   "source": [
    "x2d.slits[30].meta.wcs.bounding_box"
   ]
  },
  {
   "cell_type": "code",
   "execution_count": null,
   "metadata": {},
   "outputs": [],
   "source": [
    "x2d.slits[30].source_xpos, x2d.slits[30].source_ypos #in full frame coordinates"
   ]
  },
  {
   "cell_type": "code",
   "execution_count": null,
   "metadata": {},
   "outputs": [],
   "source": [
    "x2d.meta.wcsinfo.crval1, x2d.meta.wcsinfo.crval2"
   ]
  },
  {
   "cell_type": "code",
   "execution_count": null,
   "metadata": {},
   "outputs": [],
   "source": [
    "x2d.slits[30].meta.wcs(300, 45)"
   ]
  },
  {
   "cell_type": "code",
   "execution_count": null,
   "metadata": {},
   "outputs": [],
   "source": [
    "x2d.slits[30].meta.wcs.invert(53.24559353894091, -27.67442607541429, 3.6600624374534227, 1.0)  \n"
   ]
  },
  {
   "cell_type": "code",
   "execution_count": null,
   "metadata": {},
   "outputs": [],
   "source": [
    "x2d.slits[30].meta.wcs.available_frames"
   ]
  }
 ],
 "metadata": {
  "kernelspec": {
   "display_name": "Python 3",
   "language": "python",
   "name": "python3"
  },
  "language_info": {
   "codemirror_mode": {
    "name": "ipython",
    "version": 3
   },
   "file_extension": ".py",
   "mimetype": "text/x-python",
   "name": "python",
   "nbconvert_exporter": "python",
   "pygments_lexer": "ipython3",
   "version": "3.6.7"
  }
 },
 "nbformat": 4,
 "nbformat_minor": 2
}
